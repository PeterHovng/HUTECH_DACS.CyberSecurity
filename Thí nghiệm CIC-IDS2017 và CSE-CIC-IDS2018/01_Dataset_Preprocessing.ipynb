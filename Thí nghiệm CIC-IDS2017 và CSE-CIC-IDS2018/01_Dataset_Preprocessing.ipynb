{
 "cells": [
  {
   "cell_type": "markdown",
   "metadata": {},
   "source": [
    "# Tiền xử lý Bộ Dữ liệu\n",
    "Trong notebook này, mục tiêu là xử lý bộ dữ liệu sao cho sẵn sàng để sử dụng cho quá trình huấn luyện. Để đạt được mục tiêu này, các bước sau sẽ được thực hiện trong notebook:\n",
    "1. Kết hợp các tệp CSV của bộ dữ liệu thành một bộ dữ liệu duy nhất\n",
    "2. Phân tích sơ bộ bộ dữ liệu\n",
    "3. Làm sạch dữ liệu – xử lý giá trị thiếu, bản ghi trùng lặp, v.v.\n",
    "4. Xử lý sâu hơn, bao gồm giải quyết vấn đề mất cân bằng lớp nghiêm trọng và đổi tên các cột (nếu cần thiết)\n",
    "5. Lưu bộ dữ liệu đã xử lý\n",
    "\n",
    "Lưu ý: Notebook sẽ được chia thành hai phần phụ, trong đó bộ dữ liệu huấn luyện và bộ dữ liệu kiểm tra sẽ được xử lý riêng biệt. Tuy nhiên, các bước thực hiện sẽ giống nhau đối với cả hai bộ dữ liệu."
   ]
  },
  {
   "cell_type": "code",
   "execution_count": 45,
   "metadata": {},
   "outputs": [],
   "source": [
    "# import the packages to be used\n",
    "import os       # Tạo thư mục và xóa các tệp\n",
    "import csv      # Loại bỏ các cột thừa trong bộ dữ liệu CSE-CIC-IDS2018\n",
    "import numpy as np\n",
    "import pandas as pd\n",
    "import random\n",
    "\n",
    "# Đặt hạt giống ngẫu nhiên để đảm bảo kết quả có thể tái tạo được\n",
    "random.seed(10)\n",
    "np.random.seed(10)"
   ]
  },
  {
   "cell_type": "markdown",
   "metadata": {},
   "source": [
    "# CIC-IDS2017 Dataset"
   ]
  },
  {
   "cell_type": "markdown",
   "metadata": {},
   "source": [
    "## Bước 1. Kết hợp các tệp của bộ dữ liệu\n",
    "\n",
    "Trong bước này, chúng ta cũng sẽ xử lý một vấn đề khi các tệp của bộ dữ liệu CIC-IDS2017 bao gồm ký tự thay thế (U+FFFD). Nguyên nhân là do bộ dữ liệu sử dụng ký tự \"–\" (mã Unicode: U+2013), mà thư viện Python-Pandas không thể xử lý. Ký tự thay thế sẽ được thay bằng ký tự \"-\" (mã Unicode: 45) khi các tệp được kết hợp. Vấn đề này được xử lý ngay lúc kết hợp thay vì sau khi nhập bộ dữ liệu dưới dạng DataFrame vì bộ dữ liệu có kích thước rất lớn và thư viện Pandas không được tối ưu cho thao tác đó."
   ]
  },
  {
   "cell_type": "code",
   "execution_count": 49,
   "metadata": {},
   "outputs": [],
   "source": [
    "# Đưa tên tất cả các tệp vào một tuple\n",
    "dataset = 'CIC-IDS2017'\n",
    "csv_file_names = ('Friday-WorkingHours-Afternoon-DDos.pcap_ISCX', \n",
    "                'Friday-WorkingHours-Afternoon-PortScan.pcap_ISCX',\n",
    "                'Friday-WorkingHours-Morning.pcap_ISCX',\n",
    "                'Monday-WorkingHours.pcap_ISCX',\n",
    "                'Thursday-WorkingHours-Afternoon-Infilteration.pcap_ISCX',\n",
    "                'Thursday-WorkingHours-Morning-WebAttacks.pcap_ISCX',\n",
    "                'Tuesday-WorkingHours.pcap_ISCX',\n",
    "                'Wednesday-workingHours.pcap_ISCX')"
   ]
  },
  {
   "cell_type": "code",
   "execution_count": 51,
   "metadata": {},
   "outputs": [],
   "source": [
    "# Định nghĩa hàm để kết hợp các tệp riêng lẻ của một bộ dữ liệu\n",
    "# Ngoài việc kết hợp các tệp, hàm này có hai chức năng bổ sung:\n",
    "# 1. Thay thế ký tự thay thế (\\uFFFD) bằng dấu gạch ngang '-', điều này cần thiết cho bộ dữ liệu CIC-IDS2017\n",
    "# 2. Giảm kích thước mẫu dữ liệu. Nếu tham số reduce_sample_size được đặt là True, chỉ 10% bộ dữ liệu sẽ được chọn ngẫu nhiên và lưu lại\n",
    "def combine_csv_files(dataset: str, file_names: tuple, reduce_sample_size: bool = False):\n",
    "\n",
    "    # Tạo thư mục mới để chứa bộ dữ liệu đã được kết hợp\n",
    "    os.makedirs('./Dataset/dataset_combined', exist_ok=True)\n",
    "\n",
    "    # Xóa bộ dữ liệu nếu đã tồn tại\n",
    "    merged_dataset_directory = f'Dataset/dataset_combined/{dataset}.csv'\n",
    "    if os.path.isfile(merged_dataset_directory):\n",
    "        os.remove(merged_dataset_directory)\n",
    "        print(f'original file({merged_dataset_directory}) has been removed')\n",
    "\n",
    "    for (file_index, file_name) in enumerate(file_names):\n",
    "        with open(f\"Dataset/{dataset}/{file_name}.csv\", 'r') as file, open(merged_dataset_directory, 'a') as out_file:\n",
    "            for (line_index, line) in enumerate(file):\n",
    "                \n",
    "                # Chỉ lấy phần tiêu đề (header) của tệp đầu tiên\n",
    "                if 'Label' in line or 'label' in line:\n",
    "                    if file_index != 0 or line_index != 0:\n",
    "                        continue\n",
    "                elif reduce_sample_size:\n",
    "                    if random.randint(1, 10) > 1:\n",
    "                        continue\n",
    "                # Thay thế ký tự thay thế (\\uFFFD) bằng dấu '-' nếu có   \n",
    "                out_file.write(line.replace(' ï¿½ ', '-'))\n",
    "                "
   ]
  },
  {
   "cell_type": "code",
   "execution_count": 53,
   "metadata": {},
   "outputs": [],
   "source": [
    "combine_csv_files(dataset=dataset, file_names=csv_file_names)"
   ]
  },
  {
   "cell_type": "markdown",
   "metadata": {},
   "source": [
    "## Bước 2. Phân tích sơ bộ"
   ]
  },
  {
   "cell_type": "code",
   "execution_count": 56,
   "metadata": {},
   "outputs": [
    {
     "data": {
      "text/html": [
       "<div>\n",
       "<style scoped>\n",
       "    .dataframe tbody tr th:only-of-type {\n",
       "        vertical-align: middle;\n",
       "    }\n",
       "\n",
       "    .dataframe tbody tr th {\n",
       "        vertical-align: top;\n",
       "    }\n",
       "\n",
       "    .dataframe thead th {\n",
       "        text-align: right;\n",
       "    }\n",
       "</style>\n",
       "<table border=\"1\" class=\"dataframe\">\n",
       "  <thead>\n",
       "    <tr style=\"text-align: right;\">\n",
       "      <th></th>\n",
       "      <th>Destination Port</th>\n",
       "      <th>Flow Duration</th>\n",
       "      <th>Total Fwd Packets</th>\n",
       "      <th>Total Backward Packets</th>\n",
       "      <th>Total Length of Fwd Packets</th>\n",
       "      <th>Total Length of Bwd Packets</th>\n",
       "      <th>Fwd Packet Length Max</th>\n",
       "      <th>Fwd Packet Length Min</th>\n",
       "      <th>Fwd Packet Length Mean</th>\n",
       "      <th>Fwd Packet Length Std</th>\n",
       "      <th>...</th>\n",
       "      <th>min_seg_size_forward</th>\n",
       "      <th>Active Mean</th>\n",
       "      <th>Active Std</th>\n",
       "      <th>Active Max</th>\n",
       "      <th>Active Min</th>\n",
       "      <th>Idle Mean</th>\n",
       "      <th>Idle Std</th>\n",
       "      <th>Idle Max</th>\n",
       "      <th>Idle Min</th>\n",
       "      <th>Label</th>\n",
       "    </tr>\n",
       "  </thead>\n",
       "  <tbody>\n",
       "    <tr>\n",
       "      <th>0</th>\n",
       "      <td>54865</td>\n",
       "      <td>3</td>\n",
       "      <td>2</td>\n",
       "      <td>0</td>\n",
       "      <td>12</td>\n",
       "      <td>0</td>\n",
       "      <td>6</td>\n",
       "      <td>6</td>\n",
       "      <td>6.0</td>\n",
       "      <td>0.0</td>\n",
       "      <td>...</td>\n",
       "      <td>20</td>\n",
       "      <td>0.0</td>\n",
       "      <td>0.0</td>\n",
       "      <td>0</td>\n",
       "      <td>0</td>\n",
       "      <td>0.0</td>\n",
       "      <td>0.0</td>\n",
       "      <td>0</td>\n",
       "      <td>0</td>\n",
       "      <td>BENIGN</td>\n",
       "    </tr>\n",
       "    <tr>\n",
       "      <th>1</th>\n",
       "      <td>55054</td>\n",
       "      <td>109</td>\n",
       "      <td>1</td>\n",
       "      <td>1</td>\n",
       "      <td>6</td>\n",
       "      <td>6</td>\n",
       "      <td>6</td>\n",
       "      <td>6</td>\n",
       "      <td>6.0</td>\n",
       "      <td>0.0</td>\n",
       "      <td>...</td>\n",
       "      <td>20</td>\n",
       "      <td>0.0</td>\n",
       "      <td>0.0</td>\n",
       "      <td>0</td>\n",
       "      <td>0</td>\n",
       "      <td>0.0</td>\n",
       "      <td>0.0</td>\n",
       "      <td>0</td>\n",
       "      <td>0</td>\n",
       "      <td>BENIGN</td>\n",
       "    </tr>\n",
       "    <tr>\n",
       "      <th>2</th>\n",
       "      <td>55055</td>\n",
       "      <td>52</td>\n",
       "      <td>1</td>\n",
       "      <td>1</td>\n",
       "      <td>6</td>\n",
       "      <td>6</td>\n",
       "      <td>6</td>\n",
       "      <td>6</td>\n",
       "      <td>6.0</td>\n",
       "      <td>0.0</td>\n",
       "      <td>...</td>\n",
       "      <td>20</td>\n",
       "      <td>0.0</td>\n",
       "      <td>0.0</td>\n",
       "      <td>0</td>\n",
       "      <td>0</td>\n",
       "      <td>0.0</td>\n",
       "      <td>0.0</td>\n",
       "      <td>0</td>\n",
       "      <td>0</td>\n",
       "      <td>BENIGN</td>\n",
       "    </tr>\n",
       "    <tr>\n",
       "      <th>3</th>\n",
       "      <td>46236</td>\n",
       "      <td>34</td>\n",
       "      <td>1</td>\n",
       "      <td>1</td>\n",
       "      <td>6</td>\n",
       "      <td>6</td>\n",
       "      <td>6</td>\n",
       "      <td>6</td>\n",
       "      <td>6.0</td>\n",
       "      <td>0.0</td>\n",
       "      <td>...</td>\n",
       "      <td>20</td>\n",
       "      <td>0.0</td>\n",
       "      <td>0.0</td>\n",
       "      <td>0</td>\n",
       "      <td>0</td>\n",
       "      <td>0.0</td>\n",
       "      <td>0.0</td>\n",
       "      <td>0</td>\n",
       "      <td>0</td>\n",
       "      <td>BENIGN</td>\n",
       "    </tr>\n",
       "    <tr>\n",
       "      <th>4</th>\n",
       "      <td>54863</td>\n",
       "      <td>3</td>\n",
       "      <td>2</td>\n",
       "      <td>0</td>\n",
       "      <td>12</td>\n",
       "      <td>0</td>\n",
       "      <td>6</td>\n",
       "      <td>6</td>\n",
       "      <td>6.0</td>\n",
       "      <td>0.0</td>\n",
       "      <td>...</td>\n",
       "      <td>20</td>\n",
       "      <td>0.0</td>\n",
       "      <td>0.0</td>\n",
       "      <td>0</td>\n",
       "      <td>0</td>\n",
       "      <td>0.0</td>\n",
       "      <td>0.0</td>\n",
       "      <td>0</td>\n",
       "      <td>0</td>\n",
       "      <td>BENIGN</td>\n",
       "    </tr>\n",
       "  </tbody>\n",
       "</table>\n",
       "<p>5 rows × 79 columns</p>\n",
       "</div>"
      ],
      "text/plain": [
       "    Destination Port   Flow Duration   Total Fwd Packets  \\\n",
       "0              54865               3                   2   \n",
       "1              55054             109                   1   \n",
       "2              55055              52                   1   \n",
       "3              46236              34                   1   \n",
       "4              54863               3                   2   \n",
       "\n",
       "    Total Backward Packets  Total Length of Fwd Packets  \\\n",
       "0                        0                           12   \n",
       "1                        1                            6   \n",
       "2                        1                            6   \n",
       "3                        1                            6   \n",
       "4                        0                           12   \n",
       "\n",
       "    Total Length of Bwd Packets   Fwd Packet Length Max  \\\n",
       "0                             0                       6   \n",
       "1                             6                       6   \n",
       "2                             6                       6   \n",
       "3                             6                       6   \n",
       "4                             0                       6   \n",
       "\n",
       "    Fwd Packet Length Min   Fwd Packet Length Mean   Fwd Packet Length Std  \\\n",
       "0                       6                      6.0                     0.0   \n",
       "1                       6                      6.0                     0.0   \n",
       "2                       6                      6.0                     0.0   \n",
       "3                       6                      6.0                     0.0   \n",
       "4                       6                      6.0                     0.0   \n",
       "\n",
       "   ...   min_seg_size_forward  Active Mean   Active Std   Active Max  \\\n",
       "0  ...                     20          0.0          0.0            0   \n",
       "1  ...                     20          0.0          0.0            0   \n",
       "2  ...                     20          0.0          0.0            0   \n",
       "3  ...                     20          0.0          0.0            0   \n",
       "4  ...                     20          0.0          0.0            0   \n",
       "\n",
       "    Active Min  Idle Mean   Idle Std   Idle Max   Idle Min   Label  \n",
       "0            0        0.0        0.0          0          0  BENIGN  \n",
       "1            0        0.0        0.0          0          0  BENIGN  \n",
       "2            0        0.0        0.0          0          0  BENIGN  \n",
       "3            0        0.0        0.0          0          0  BENIGN  \n",
       "4            0        0.0        0.0          0          0  BENIGN  \n",
       "\n",
       "[5 rows x 79 columns]"
      ]
     },
     "execution_count": 56,
     "metadata": {},
     "output_type": "execute_result"
    }
   ],
   "source": [
    "# Đưa tất cả các tệp CSV vào một DataFrame duy nhất\n",
    "cic_ids2017 = pd.read_csv('Dataset/dataset_combined/CIC-IDS2017.csv')\n",
    "cic_ids2017.head()"
   ]
  },
  {
   "cell_type": "code",
   "execution_count": 6,
   "metadata": {},
   "outputs": [
    {
     "name": "stdout",
     "output_type": "stream",
     "text": [
      "Number of rows: 2830743\n",
      "Number of columns: 79\n"
     ]
    }
   ],
   "source": [
    "print(f\"Số lượng dòng: {cic_ids2017.shape[0]}\")\n",
    "print(f\"Số lượng cột: {cic_ids2017.shape[1]}\")"
   ]
  },
  {
   "cell_type": "code",
   "execution_count": 24,
   "metadata": {},
   "outputs": [
    {
     "name": "stdout",
     "output_type": "stream",
     "text": [
      "Columns in the dataset:\n"
     ]
    },
    {
     "data": {
      "text/plain": [
       "Index([' Destination Port', ' Flow Duration', ' Total Fwd Packets',\n",
       "       ' Total Backward Packets', 'Total Length of Fwd Packets',\n",
       "       ' Total Length of Bwd Packets', ' Fwd Packet Length Max',\n",
       "       ' Fwd Packet Length Min', ' Fwd Packet Length Mean',\n",
       "       ' Fwd Packet Length Std', 'Bwd Packet Length Max',\n",
       "       ' Bwd Packet Length Min', ' Bwd Packet Length Mean',\n",
       "       ' Bwd Packet Length Std', 'Flow Bytes/s', ' Flow Packets/s',\n",
       "       ' Flow IAT Mean', ' Flow IAT Std', ' Flow IAT Max', ' Flow IAT Min',\n",
       "       'Fwd IAT Total', ' Fwd IAT Mean', ' Fwd IAT Std', ' Fwd IAT Max',\n",
       "       ' Fwd IAT Min', 'Bwd IAT Total', ' Bwd IAT Mean', ' Bwd IAT Std',\n",
       "       ' Bwd IAT Max', ' Bwd IAT Min', 'Fwd PSH Flags', ' Bwd PSH Flags',\n",
       "       ' Fwd URG Flags', ' Bwd URG Flags', ' Fwd Header Length',\n",
       "       ' Bwd Header Length', 'Fwd Packets/s', ' Bwd Packets/s',\n",
       "       ' Min Packet Length', ' Max Packet Length', ' Packet Length Mean',\n",
       "       ' Packet Length Std', ' Packet Length Variance', 'FIN Flag Count',\n",
       "       ' SYN Flag Count', ' RST Flag Count', ' PSH Flag Count',\n",
       "       ' ACK Flag Count', ' URG Flag Count', ' CWE Flag Count',\n",
       "       ' ECE Flag Count', ' Down/Up Ratio', ' Average Packet Size',\n",
       "       ' Avg Fwd Segment Size', ' Avg Bwd Segment Size',\n",
       "       ' Fwd Header Length.1', 'Fwd Avg Bytes/Bulk', ' Fwd Avg Packets/Bulk',\n",
       "       ' Fwd Avg Bulk Rate', ' Bwd Avg Bytes/Bulk', ' Bwd Avg Packets/Bulk',\n",
       "       'Bwd Avg Bulk Rate', 'Subflow Fwd Packets', ' Subflow Fwd Bytes',\n",
       "       ' Subflow Bwd Packets', ' Subflow Bwd Bytes', 'Init_Win_bytes_forward',\n",
       "       ' Init_Win_bytes_backward', ' act_data_pkt_fwd',\n",
       "       ' min_seg_size_forward', 'Active Mean', ' Active Std', ' Active Max',\n",
       "       ' Active Min', 'Idle Mean', ' Idle Std', ' Idle Max', ' Idle Min',\n",
       "       ' Label'],\n",
       "      dtype='object')"
      ]
     },
     "execution_count": 24,
     "metadata": {},
     "output_type": "execute_result"
    }
   ],
   "source": [
    "print(\"Columns in the dataset:\")\n",
    "cic_ids2017.columns"
   ]
  },
  {
   "cell_type": "markdown",
   "metadata": {},
   "source": [
    "Từ phân phối các lớp, chúng ta có thể thấy rõ rằng bộ dữ liệu CIC-IDS2017 có sự mất cân bằng rất lớn. Các mẫu benign chiếm phần lớn trong bộ dữ liệu, trong khi một số mẫu độc hại như tấn công web chỉ chiếm một phần rất nhỏ. "
   ]
  },
  {
   "cell_type": "code",
   "execution_count": 26,
   "metadata": {},
   "outputs": [
    {
     "name": "stdout",
     "output_type": "stream",
     "text": [
      "Class distribution:\n"
     ]
    },
    {
     "data": {
      "text/plain": [
       " Label\n",
       "BENIGN                      2273097\n",
       "DoS Hulk                     231073\n",
       "PortScan                     158930\n",
       "DDoS                         128027\n",
       "DoS GoldenEye                 10293\n",
       "FTP-Patator                    7938\n",
       "SSH-Patator                    5897\n",
       "DoS slowloris                  5796\n",
       "DoS Slowhttptest               5499\n",
       "Bot                            1966\n",
       "Web Attack-Brute Force         1507\n",
       "Web Attack-XSS                  652\n",
       "Infiltration                     36\n",
       "Web Attack-Sql Injection         21\n",
       "Heartbleed                       11\n",
       "Name: count, dtype: int64"
      ]
     },
     "execution_count": 26,
     "metadata": {},
     "output_type": "execute_result"
    }
   ],
   "source": [
    "print('Class distribution:')\n",
    "cic_ids2017[' Label'].value_counts()"
   ]
  },
  {
   "cell_type": "code",
   "execution_count": 30,
   "metadata": {},
   "outputs": [
    {
     "name": "stdout",
     "output_type": "stream",
     "text": [
      "Class distribution (normalized):\n"
     ]
    },
    {
     "data": {
      "text/plain": [
       " Label\n",
       "BENIGN                      80.300366\n",
       "DoS Hulk                     8.162981\n",
       "PortScan                     5.614427\n",
       "DDoS                         4.522735\n",
       "DoS GoldenEye                0.363615\n",
       "FTP-Patator                  0.280421\n",
       "SSH-Patator                  0.208320\n",
       "DoS slowloris                0.204752\n",
       "DoS Slowhttptest             0.194260\n",
       "Bot                          0.069452\n",
       "Web Attack-Brute Force       0.053237\n",
       "Web Attack-XSS               0.023033\n",
       "Infiltration                 0.001272\n",
       "Web Attack-Sql Injection     0.000742\n",
       "Heartbleed                   0.000389\n",
       "Name: count, dtype: float64"
      ]
     },
     "execution_count": 30,
     "metadata": {},
     "output_type": "execute_result"
    }
   ],
   "source": [
    "print('Class distribution (normalized):')\n",
    "cic_ids2017[' Label'].value_counts()/cic_ids2017.shape[0]*100"
   ]
  },
  {
   "cell_type": "markdown",
   "metadata": {},
   "source": [
    "### Kiểm tra giá trị null"
   ]
  },
  {
   "cell_type": "code",
   "execution_count": 32,
   "metadata": {},
   "outputs": [
    {
     "name": "stdout",
     "output_type": "stream",
     "text": [
      "Rows contain null value: \n",
      "Flow Bytes/s    1358\n",
      "dtype: int64\n",
      "\n",
      "Rows contain null value (percentage): \n",
      "Flow Bytes/s    0.047973\n",
      "dtype: float64\n",
      "\n"
     ]
    }
   ],
   "source": [
    "cic_ids2017_null_count = cic_ids2017.isnull().sum()\n",
    "cic_ids2017_null_count = cic_ids2017_null_count[cic_ids2017_null_count > 0]\n",
    "print(f\"Rows contain null value: \\n{cic_ids2017_null_count}\\n\")\n",
    "\n",
    "cic_ids2017_null_count = cic_ids2017_null_count / cic_ids2017.shape[0] * 100\n",
    "print(f\"Rows contain null value (percentage): \\n{cic_ids2017_null_count}\\n\")"
   ]
  },
  {
   "cell_type": "markdown",
   "metadata": {},
   "source": [
    "### Kiểm tra giá trị vô cực (infinity)"
   ]
  },
  {
   "cell_type": "code",
   "execution_count": 36,
   "metadata": {},
   "outputs": [
    {
     "name": "stdout",
     "output_type": "stream",
     "text": [
      "Number of samples contains infinity value:\n"
     ]
    },
    {
     "data": {
      "text/plain": [
       "2867"
      ]
     },
     "execution_count": 36,
     "metadata": {},
     "output_type": "execute_result"
    }
   ],
   "source": [
    "print('Số lượng mẫu chứa giá trị vô cực (infinity)')\n",
    "np.isinf(cic_ids2017.iloc[:, :-2]).any(axis=1).sum()"
   ]
  },
  {
   "cell_type": "markdown",
   "metadata": {},
   "source": [
    "### Kiểm tra các cột chứa giá trị chuỗi\n",
    "\n",
    "Kiểm tra các cột có kiểu dữ liệu là object, điều này chỉ ra rằng các cột này chứa giá trị chuỗi. Mục tiêu là tìm xem có cột nào chứa cả giá trị số và chữ cái. Các cột như vậy thường bao gồm các giá trị chuỗi như '?' để chỉ ra giá trị thiếu, do đó cần phải làm sạch.\n",
    "\n",
    "Trong bộ dữ liệu CIC-IDS2017, chỉ có cột Label chứa giá trị chuỗi, do đó không cần phải làm sạch thêm."
   ]
  },
  {
   "cell_type": "code",
   "execution_count": 39,
   "metadata": {},
   "outputs": [
    {
     "data": {
      "text/plain": [
       "Label    object\n",
       "dtype: object"
      ]
     },
     "execution_count": 39,
     "metadata": {},
     "output_type": "execute_result"
    }
   ],
   "source": [
    "cic_ids2017.dtypes[(cic_ids2017.dtypes != 'int64') & (cic_ids2017.dtypes != 'float64')]"
   ]
  },
  {
   "cell_type": "markdown",
   "metadata": {},
   "source": [
    "### Kiểm tra các bản sao"
   ]
  },
  {
   "cell_type": "markdown",
   "metadata": {},
   "source": [
    "Kiểm tra các cột bị trùng lặp\n",
    "\n",
    "Mặc dù không có hai cột nào có tên giống nhau, nhưng thực tế có hai cột cho `Fwd Header Length`. Bằng cách kiểm tra thủ công tất cả các cột, chúng ta có thể thấy rằng có một cột tên là `Fwd Header Length` trong khi có một cột khác tên là `Fwd Header Length.1`"
   ]
  },
  {
   "cell_type": "code",
   "execution_count": 43,
   "metadata": {},
   "outputs": [
    {
     "data": {
      "text/plain": [
       "Index([], dtype='object')"
      ]
     },
     "execution_count": 43,
     "metadata": {},
     "output_type": "execute_result"
    }
   ],
   "source": [
    "# Kiểm tra các cột bị trùng lặp\n",
    "cic_ids2017.columns[cic_ids2017.columns.value_counts() > 1]"
   ]
  },
  {
   "cell_type": "code",
   "execution_count": 45,
   "metadata": {},
   "outputs": [
    {
     "data": {
      "text/plain": [
       "Index([' Destination Port', ' Flow Duration', ' Total Fwd Packets',\n",
       "       ' Total Backward Packets', 'Total Length of Fwd Packets',\n",
       "       ' Total Length of Bwd Packets', ' Fwd Packet Length Max',\n",
       "       ' Fwd Packet Length Min', ' Fwd Packet Length Mean',\n",
       "       ' Fwd Packet Length Std', 'Bwd Packet Length Max',\n",
       "       ' Bwd Packet Length Min', ' Bwd Packet Length Mean',\n",
       "       ' Bwd Packet Length Std', 'Flow Bytes/s', ' Flow Packets/s',\n",
       "       ' Flow IAT Mean', ' Flow IAT Std', ' Flow IAT Max', ' Flow IAT Min',\n",
       "       'Fwd IAT Total', ' Fwd IAT Mean', ' Fwd IAT Std', ' Fwd IAT Max',\n",
       "       ' Fwd IAT Min', 'Bwd IAT Total', ' Bwd IAT Mean', ' Bwd IAT Std',\n",
       "       ' Bwd IAT Max', ' Bwd IAT Min', 'Fwd PSH Flags', ' Bwd PSH Flags',\n",
       "       ' Fwd URG Flags', ' Bwd URG Flags', ' Fwd Header Length',\n",
       "       ' Bwd Header Length', 'Fwd Packets/s', ' Bwd Packets/s',\n",
       "       ' Min Packet Length', ' Max Packet Length', ' Packet Length Mean',\n",
       "       ' Packet Length Std', ' Packet Length Variance', 'FIN Flag Count',\n",
       "       ' SYN Flag Count', ' RST Flag Count', ' PSH Flag Count',\n",
       "       ' ACK Flag Count', ' URG Flag Count', ' CWE Flag Count',\n",
       "       ' ECE Flag Count', ' Down/Up Ratio', ' Average Packet Size',\n",
       "       ' Avg Fwd Segment Size', ' Avg Bwd Segment Size',\n",
       "       ' Fwd Header Length.1', 'Fwd Avg Bytes/Bulk', ' Fwd Avg Packets/Bulk',\n",
       "       ' Fwd Avg Bulk Rate', ' Bwd Avg Bytes/Bulk', ' Bwd Avg Packets/Bulk',\n",
       "       'Bwd Avg Bulk Rate', 'Subflow Fwd Packets', ' Subflow Fwd Bytes',\n",
       "       ' Subflow Bwd Packets', ' Subflow Bwd Bytes', 'Init_Win_bytes_forward',\n",
       "       ' Init_Win_bytes_backward', ' act_data_pkt_fwd',\n",
       "       ' min_seg_size_forward', 'Active Mean', ' Active Std', ' Active Max',\n",
       "       ' Active Min', 'Idle Mean', ' Idle Std', ' Idle Max', ' Idle Min',\n",
       "       ' Label'],\n",
       "      dtype='object')"
      ]
     },
     "execution_count": 45,
     "metadata": {},
     "output_type": "execute_result"
    }
   ],
   "source": [
    "# Hiển thị tất cả các cột của bộ dữ liệu để kiểm tra thủ công\n",
    "cic_ids2017.columns"
   ]
  },
  {
   "cell_type": "markdown",
   "metadata": {},
   "source": [
    "Kiểm tra các dòng trùng lặp"
   ]
  },
  {
   "cell_type": "code",
   "execution_count": 48,
   "metadata": {},
   "outputs": [
    {
     "data": {
      "text/plain": [
       "(308381, 79)"
      ]
     },
     "execution_count": 48,
     "metadata": {},
     "output_type": "execute_result"
    }
   ],
   "source": [
    "cic_ids2017_duplicates = cic_ids2017[cic_ids2017.duplicated()]\n",
    "cic_ids2017_duplicates.shape"
   ]
  },
  {
   "cell_type": "markdown",
   "metadata": {},
   "source": [
    "Từ đây, chúng ta có thể thấy rằng bộ dữ liệu CIC-IDS2017 chứa khá nhiều bản ghi bị trùng lặp. Sau khi kiểm tra số lượng bản sao theo từng lớp mẫu, chúng tôi phát hiện rằng các bản sao không cụ thể thuộc về bất kỳ lớp nào. Mặc dù 11% bản sao là khá nhiều, nhưng những bản sao này sẽ được loại bỏ ở bước tiếp theo. Lý do là:\n",
    "1. Bộ dữ liệu rất lớn, ngay cả khi chúng ta loại bỏ những mẫu này, vẫn còn đủ mẫu để huấn luyện các mô hình.\n",
    "\n",
    "2. Các bản sao sẽ khiến các mô hình có xu hướng thiên về chúng. "
   ]
  },
  {
   "cell_type": "code",
   "execution_count": 51,
   "metadata": {},
   "outputs": [
    {
     "name": "stdout",
     "output_type": "stream",
     "text": [
      "10.89% of rows are duplicates\n"
     ]
    }
   ],
   "source": [
    "print(f\"{cic_ids2017_duplicates.shape[0]/cic_ids2017.shape[0]*100:.2f}% Tỷ lệ các dòng bị trùng lặp.\")"
   ]
  },
  {
   "cell_type": "code",
   "execution_count": 53,
   "metadata": {},
   "outputs": [
    {
     "data": {
      "text/plain": [
       " Label\n",
       "BENIGN                    176613\n",
       "PortScan                   68111\n",
       "DoS Hulk                   58224\n",
       "SSH-Patator                 2678\n",
       "FTP-Patator                 2005\n",
       "DoS slowloris                411\n",
       "DoS Slowhttptest             271\n",
       "Web Attack-Brute Force        37\n",
       "Bot                           13\n",
       "DDoS                          11\n",
       "DoS GoldenEye                  7\n",
       "Name: count, dtype: int64"
      ]
     },
     "execution_count": 53,
     "metadata": {},
     "output_type": "execute_result"
    }
   ],
   "source": [
    "cic_ids2017_duplicates[' Label'].value_counts()"
   ]
  },
  {
   "cell_type": "markdown",
   "metadata": {},
   "source": [
    "## Bước 3. Làm sạch bộ dữ liệu\n",
    "\n",
    "Từ phân tích ở Bước 2, đã phát hiện rằng bộ dữ liệu chứa một lượng nhỏ bản ghi có giá trị vô cực (infinity) hoặc giá trị thiếu. Những bản ghi này sẽ được loại bỏ vì chúng chỉ chiếm một phần nhỏ trong bộ dữ liệu.\n",
    "\n",
    "Bên cạnh đó, đã phát hiện rằng 11% bộ dữ liệu là bản sao. Mặc dù các bản sao chiếm một phần lớn trong bộ dữ liệu, nhưng chúng vẫn sẽ được loại bỏ.\n",
    "\n",
    "Về các cột của bộ dữ liệu, có một cột bị trùng lặp, cột này sẽ bị loại bỏ trong bước này. Ngoài ra, một số tên cột có chứa một khoảng trắng thừa ở đầu tên cột. Khoảng trắng thừa này cũng sẽ được xử lý tại đây."
   ]
  },
  {
   "cell_type": "code",
   "execution_count": 56,
   "metadata": {},
   "outputs": [
    {
     "name": "stderr",
     "output_type": "stream",
     "text": [
      "C:\\Users\\garan\\AppData\\Local\\Temp\\ipykernel_11132\\169629030.py:3: FutureWarning: use_inf_as_na option is deprecated and will be removed in a future version. Convert inf values to NaN before operating instead.\n",
      "  with pd.option_context('mode.use_inf_as_na', True):\n"
     ]
    },
    {
     "data": {
      "text/plain": [
       "(2827876, 79)"
      ]
     },
     "execution_count": 56,
     "metadata": {},
     "output_type": "execute_result"
    }
   ],
   "source": [
    "# Loại bỏ các dòng có giá trị thiếu hoặc giá trị vô cực\n",
    "# Bằng cách tạm thời xem giá trị vô cực là giá trị null và sử dụng hàm dropna()\n",
    "with pd.option_context('mode.use_inf_as_na', True):\n",
    "    cic_ids2017 = cic_ids2017.dropna(how='any')\n",
    "\n",
    "cic_ids2017.shape"
   ]
  },
  {
   "cell_type": "code",
   "execution_count": 58,
   "metadata": {},
   "outputs": [
    {
     "data": {
      "text/plain": [
       "(2520798, 79)"
      ]
     },
     "execution_count": 58,
     "metadata": {},
     "output_type": "execute_result"
    }
   ],
   "source": [
    "cic_ids2017 = cic_ids2017.drop_duplicates()\n",
    "cic_ids2017.shape"
   ]
  },
  {
   "cell_type": "code",
   "execution_count": 59,
   "metadata": {},
   "outputs": [
    {
     "data": {
      "text/plain": [
       "(2520798, 78)"
      ]
     },
     "execution_count": 59,
     "metadata": {},
     "output_type": "execute_result"
    }
   ],
   "source": [
    "# Loại bỏ cột bị trùng lặp\n",
    "cic_ids2017 = cic_ids2017.drop(' Fwd Header Length.1', axis=1)\n",
    "cic_ids2017.shape"
   ]
  },
  {
   "cell_type": "code",
   "execution_count": 60,
   "metadata": {},
   "outputs": [
    {
     "data": {
      "text/plain": [
       "Index(['Destination Port', 'Flow Duration', 'Total Fwd Packets',\n",
       "       'Total Backward Packets', 'Total Length of Fwd Packets',\n",
       "       'Total Length of Bwd Packets', 'Fwd Packet Length Max',\n",
       "       'Fwd Packet Length Min', 'Fwd Packet Length Mean',\n",
       "       'Fwd Packet Length Std', 'Bwd Packet Length Max',\n",
       "       'Bwd Packet Length Min', 'Bwd Packet Length Mean',\n",
       "       'Bwd Packet Length Std', 'Flow Bytes/s', 'Flow Packets/s',\n",
       "       'Flow IAT Mean', 'Flow IAT Std', 'Flow IAT Max', 'Flow IAT Min',\n",
       "       'Fwd IAT Total', 'Fwd IAT Mean', 'Fwd IAT Std', 'Fwd IAT Max',\n",
       "       'Fwd IAT Min', 'Bwd IAT Total', 'Bwd IAT Mean', 'Bwd IAT Std',\n",
       "       'Bwd IAT Max', 'Bwd IAT Min', 'Fwd PSH Flags', 'Bwd PSH Flags',\n",
       "       'Fwd URG Flags', 'Bwd URG Flags', 'Fwd Header Length',\n",
       "       'Bwd Header Length', 'Fwd Packets/s', 'Bwd Packets/s',\n",
       "       'Min Packet Length', 'Max Packet Length', 'Packet Length Mean',\n",
       "       'Packet Length Std', 'Packet Length Variance', 'FIN Flag Count',\n",
       "       'SYN Flag Count', 'RST Flag Count', 'PSH Flag Count', 'ACK Flag Count',\n",
       "       'URG Flag Count', 'CWE Flag Count', 'ECE Flag Count', 'Down/Up Ratio',\n",
       "       'Average Packet Size', 'Avg Fwd Segment Size', 'Avg Bwd Segment Size',\n",
       "       'Fwd Avg Bytes/Bulk', 'Fwd Avg Packets/Bulk', 'Fwd Avg Bulk Rate',\n",
       "       'Bwd Avg Bytes/Bulk', 'Bwd Avg Packets/Bulk', 'Bwd Avg Bulk Rate',\n",
       "       'Subflow Fwd Packets', 'Subflow Fwd Bytes', 'Subflow Bwd Packets',\n",
       "       'Subflow Bwd Bytes', 'Init_Win_bytes_forward',\n",
       "       'Init_Win_bytes_backward', 'act_data_pkt_fwd', 'min_seg_size_forward',\n",
       "       'Active Mean', 'Active Std', 'Active Max', 'Active Min', 'Idle Mean',\n",
       "       'Idle Std', 'Idle Max', 'Idle Min', 'Label'],\n",
       "      dtype='object')"
      ]
     },
     "execution_count": 60,
     "metadata": {},
     "output_type": "execute_result"
    }
   ],
   "source": [
    "# Loại bỏ khoảng trắng thừa trong tên cột\n",
    "cic_ids2017_columns = [column for column in cic_ids2017.columns]\n",
    "for column_index, column in enumerate(cic_ids2017_columns):\n",
    "    if column[0] == ' ':\n",
    "        cic_ids2017_columns[column_index] = column[1:]\n",
    "\n",
    "cic_ids2017.columns = cic_ids2017_columns\n",
    "cic_ids2017.columns"
   ]
  },
  {
   "cell_type": "markdown",
   "metadata": {},
   "source": [
    "## Bước 4. Chuẩn bị bộ dữ liệu\n",
    "\n",
    "Trong bước này, mục tiêu chính là giải quyết vấn đề mất cân bằng lớp nghiêm trọng. Để giảm thiểu vấn đề mất cân bằng, các lớp lớn sẽ được giảm mẫu. Bên cạnh đó, tất cả các mẫu tấn công sẽ được gộp lại. Do đó, bộ dữ liệu sẽ chỉ chứa hai nhãn, 'benign' và 'malicious'. Ngoài ra, các mẫu 'benign' sẽ được giảm mẫu sao cho tỷ lệ giữa số lượng mẫu benign và mẫu malicious sẽ là $1:1$"
   ]
  },
  {
   "cell_type": "markdown",
   "metadata": {},
   "source": [
    "### Giảm mẫu bộ dữ liệu"
   ]
  },
  {
   "cell_type": "code",
   "execution_count": 66,
   "metadata": {},
   "outputs": [],
   "source": [
    "\n",
    "def downsample_dataset(dataset: pd.DataFrame, sample_count_per_class: pd.Series, max_sample: int) -> pd.DataFrame:\n",
    "    dataset_downsampled = pd.DataFrame()\n",
    "    for label, count in sample_count_per_class.items():\n",
    "\n",
    "        # Đặt giới hạn trên\n",
    "        if count > max_sample:\n",
    "            sample_size = max_sample\n",
    "        else:\n",
    "            sample_size = count\n",
    "\n",
    "        sample = dataset[dataset['Label'] == label].sample(n=sample_size).reset_index(drop=True)\n",
    "        dataset_downsampled = pd.concat([dataset_downsampled, sample])\n",
    "    \n",
    "    return dataset_downsampled"
   ]
  },
  {
   "cell_type": "code",
   "execution_count": 68,
   "metadata": {},
   "outputs": [
    {
     "data": {
      "text/plain": [
       "Label\n",
       "BENIGN                      2095057\n",
       "DoS Hulk                     172846\n",
       "DDoS                         128014\n",
       "PortScan                      90694\n",
       "DoS GoldenEye                 10286\n",
       "FTP-Patator                    5931\n",
       "DoS slowloris                  5385\n",
       "DoS Slowhttptest               5228\n",
       "SSH-Patator                    3219\n",
       "Bot                            1948\n",
       "Web Attack-Brute Force         1470\n",
       "Web Attack-XSS                  652\n",
       "Infiltration                     36\n",
       "Web Attack-Sql Injection         21\n",
       "Heartbleed                       11\n",
       "Name: count, dtype: int64"
      ]
     },
     "execution_count": 68,
     "metadata": {},
     "output_type": "execute_result"
    }
   ],
   "source": [
    "# Lấy số lượng mẫu cho mỗi lớp\n",
    "sample_count_per_class = cic_ids2017['Label'].value_counts()\n",
    "sample_count_per_class"
   ]
  },
  {
   "cell_type": "code",
   "execution_count": 70,
   "metadata": {},
   "outputs": [
    {
     "name": "stdout",
     "output_type": "stream",
     "text": [
      "Distribution of class after downsampling\n"
     ]
    },
    {
     "data": {
      "text/plain": [
       "Label\n",
       "BENIGN                      324881\n",
       "DoS Hulk                    100000\n",
       "DDoS                        100000\n",
       "PortScan                     90694\n",
       "DoS GoldenEye                10286\n",
       "FTP-Patator                   5931\n",
       "DoS slowloris                 5385\n",
       "DoS Slowhttptest              5228\n",
       "SSH-Patator                   3219\n",
       "Bot                           1948\n",
       "Web Attack-Brute Force        1470\n",
       "Web Attack-XSS                 652\n",
       "Infiltration                    36\n",
       "Web Attack-Sql Injection        21\n",
       "Heartbleed                      11\n",
       "Name: count, dtype: int64"
      ]
     },
     "execution_count": 70,
     "metadata": {},
     "output_type": "execute_result"
    }
   ],
   "source": [
    "cic_ids2017_attack = downsample_dataset(cic_ids2017, sample_count_per_class[1:], max_sample=100000)\n",
    "cic_ids2017_benign = cic_ids2017[cic_ids2017['Label'] == 'BENIGN'].sample(n=cic_ids2017_attack.shape[0]).reset_index(drop=True)\n",
    "cic_ids2017_downsampled = pd.concat([cic_ids2017_attack, cic_ids2017_benign])\n",
    "del cic_ids2017_attack\n",
    "del cic_ids2017_benign\n",
    "\n",
    "print('Distribution of class after downsampling')\n",
    "cic_ids2017_downsampled['Label'].value_counts()"
   ]
  },
  {
   "cell_type": "code",
   "execution_count": 72,
   "metadata": {},
   "outputs": [
    {
     "name": "stdout",
     "output_type": "stream",
     "text": [
      "Class distribution (normalized):\n"
     ]
    },
    {
     "data": {
      "text/plain": [
       "Label\n",
       "BENIGN                      50.000000\n",
       "DoS Hulk                    15.390251\n",
       "DDoS                        15.390251\n",
       "PortScan                    13.958034\n",
       "DoS GoldenEye                1.583041\n",
       "FTP-Patator                  0.912796\n",
       "DoS slowloris                0.828765\n",
       "DoS Slowhttptest             0.804602\n",
       "SSH-Patator                  0.495412\n",
       "Bot                          0.299802\n",
       "Web Attack-Brute Force       0.226237\n",
       "Web Attack-XSS               0.100344\n",
       "Infiltration                 0.005540\n",
       "Web Attack-Sql Injection     0.003232\n",
       "Heartbleed                   0.001693\n",
       "Name: count, dtype: float64"
      ]
     },
     "execution_count": 72,
     "metadata": {},
     "output_type": "execute_result"
    }
   ],
   "source": [
    "print('Class distribution (normalized):')\n",
    "cic_ids2017_downsampled['Label'].value_counts()/cic_ids2017_downsampled.shape[0]*100"
   ]
  },
  {
   "cell_type": "markdown",
   "metadata": {},
   "source": [
    "### Gán lại nhãn cho bộ dữ liệu\n",
    "\n",
    "Sau khi gán lại nhãn, bộ dữ liệu sẽ chỉ còn hai lớp., `malicious` và `benign`"
   ]
  },
  {
   "cell_type": "code",
   "execution_count": 75,
   "metadata": {},
   "outputs": [
    {
     "data": {
      "text/plain": [
       "Label\n",
       "malicious    324881\n",
       "benign       324881\n",
       "Name: count, dtype: int64"
      ]
     },
     "execution_count": 75,
     "metadata": {},
     "output_type": "execute_result"
    }
   ],
   "source": [
    "cic_ids2017_downsampled.iloc[cic_ids2017_downsampled['Label'] != 'BENIGN', -1] = 'malicious'\n",
    "cic_ids2017_downsampled.iloc[cic_ids2017_downsampled['Label'] == 'BENIGN', -1] = 'benign'\n",
    "\n",
    "cic_ids2017_downsampled['Label'].value_counts()"
   ]
  },
  {
   "cell_type": "markdown",
   "metadata": {},
   "source": [
    "## Bước 5. Lưu bộ dữ liệu"
   ]
  },
  {
   "cell_type": "code",
   "execution_count": 78,
   "metadata": {},
   "outputs": [],
   "source": [
    "# Hàm để lưu bộ dữ liệu đã được làm sạch\n",
    "def save_cleaned_dataset(dataframe: pd.DataFrame,dataset: str, tag: str = \"\"):\n",
    "    # Tạo một thư mục mới để lưu bộ dữ liệu đã được làm sạch.\n",
    "    os.makedirs('./Dataset/dataset_cleaned', exist_ok=True)\n",
    "\n",
    "    if not(tag == \"\"):\n",
    "        tag = \"_\" + tag\n",
    "\n",
    "    dataframe.to_csv(f'Dataset/dataset_cleaned/{dataset}{tag}.csv', index=False)"
   ]
  },
  {
   "cell_type": "code",
   "execution_count": 80,
   "metadata": {},
   "outputs": [],
   "source": [
    "save_cleaned_dataset(dataframe=cic_ids2017_downsampled, dataset='CIC-IDS2017')"
   ]
  },
  {
   "cell_type": "markdown",
   "metadata": {},
   "source": [
    "# Bộ Dữ liệu CSE-CIC-IDS2018\n",
    "\n",
    "Dưới đây là các bước tiền xử lý cho bộ dữ liệu CSE-CIC-IDS2018. Quá trình tổng thể cơ bản giống như bộ dữ liệu CIC-IDS2017. Tuy nhiên, có một số bước xử lý bổ sung cần thực hiện đối với bộ dữ liệu CSE-CIC-IDS2018.\n",
    "\n",
    "Quá trình bổ sung rõ ràng nhất là cần phải căn chỉnh các cột của bộ dữ liệu CSE-CIC-IDS2018 với bộ dữ liệu CIC-IDS2017. Do đó, chúng ta sẽ cần phải đổi tên các cột trong bộ dữ liệu 2018 và đảm bảo thứ tự các cột hoàn toàn giống nhau ở cả hai bộ dữ liệu.\n",
    "\n",
    "Hơn nữa, các tệp của bộ dữ liệu 2018 gặp một số vấn đề. Có hai vấn đề chính trong các tệp:\n",
    "\n",
    "1. Trong một số tệp, có tiêu đề bị trùng lặp trong cùng một tệp.\n",
    "\n",
    "2. Trong tệp Tuesday-20-02-2018_TrafficForML_CICFlowMeter.csv, có 84 cột thay vì 80 như các tệp khác.\n",
    "\n",
    "Vấn đề đầu tiên sẽ được giải quyết khi kết hợp các tệp thành một tệp CSV duy nhất bằng cách sử dụng hàm tự định nghĩa combine_csv_files(). Hàm này sẽ giải quyết vấn đề bằng cách bỏ qua tất cả các tiêu đề, chỉ giữ lại dòng tiêu đề đầu tiên của tệp đầu tiên.\n",
    "\n",
    "Vấn đề thứ hai sẽ được giải quyết trong Bước 0 bằng cách kiểm tra xem bốn cột thừa nào và những cột đó sẽ được loại bỏ. "
   ]
  },
  {
   "cell_type": "markdown",
   "metadata": {},
   "source": [
    "## Bước 0. Làm sạch các cột thừa trong tệp Tuesday-20-02-2018_TrafficForML_CICFlowMeter.csv"
   ]
  },
  {
   "cell_type": "markdown",
   "metadata": {},
   "source": [
    "### Tải một tệp bình thường\n",
    "\n",
    "Tải một tệp bình thường để chúng ta có thể biết được các cột có trong các tệp có 80 cột."
   ]
  },
  {
   "cell_type": "code",
   "execution_count": 112,
   "metadata": {},
   "outputs": [
    {
     "name": "stdout",
     "output_type": "stream",
     "text": [
      "(10, 80)\n"
     ]
    }
   ],
   "source": [
    "# Vì mục đích của chúng ta là lấy các cột trong tệp, nên chỉ tải một số lượng nhỏ dòng dữ liệu.\n",
    "cse_cic_ids2018 = pd.read_csv(f'Dataset/CSE-CIC-IDS2018/Friday-02-03-2018_TrafficForML_CICFlowMeter.csv', nrows=10)\n",
    "cse_cic_ids2018_typical_columns = pd.Series(cse_cic_ids2018.columns, dtype='str')\n",
    "print(cse_cic_ids2018.shape)"
   ]
  },
  {
   "cell_type": "markdown",
   "metadata": {},
   "source": [
    "### Tải tệp gặp sự cố"
   ]
  },
  {
   "cell_type": "code",
   "execution_count": 115,
   "metadata": {},
   "outputs": [
    {
     "data": {
      "text/plain": [
       "(10, 84)"
      ]
     },
     "execution_count": 115,
     "metadata": {},
     "output_type": "execute_result"
    }
   ],
   "source": [
    "cse_cic_ids2018_20022018 = pd.read_csv('Dataset/CSE-CIC-IDS2018/Thuesday-20-02-2018_TrafficForML_CICFlowMeter.csv', nrows=10)\n",
    "cse_cic_ids2018_20022018_columns = pd.Series(cse_cic_ids2018_20022018.columns, dtype='str')\n",
    "\n",
    "cse_cic_ids2018_20022018.shape"
   ]
  },
  {
   "cell_type": "markdown",
   "metadata": {},
   "source": [
    "### Kiểm tra các cột chỉ có trong tệp gặp sự cố.\n",
    "\n",
    "Từ kết quả dưới đây, chúng ta thấy có bốn cột thừa chỉ có trong tệp gặp sự cố. Bên cạnh đó, chỉ số của các cột này cho thấy chúng là bốn cột đầu tiên trong tệp. Vì chỉ có bốn cột thừa, điều này có nghĩa là không có cột nào bị thiếu trong tệp gặp sự cố."
   ]
  },
  {
   "cell_type": "code",
   "execution_count": 118,
   "metadata": {},
   "outputs": [
    {
     "data": {
      "text/plain": [
       "0     Flow ID\n",
       "1      Src IP\n",
       "2    Src Port\n",
       "3      Dst IP\n",
       "dtype: object"
      ]
     },
     "execution_count": 118,
     "metadata": {},
     "output_type": "execute_result"
    }
   ],
   "source": [
    "cse_cic_ids2018_20022018_columns[~cse_cic_ids2018_20022018_columns.isin(cse_cic_ids2018_typical_columns)]"
   ]
  },
  {
   "cell_type": "markdown",
   "metadata": {},
   "source": [
    "### Giải quyết vấn đề\n",
    "\n",
    "Vì lý do hiệu suất, chúng ta sử dụng thư viện CSV để loại bỏ bốn cột đầu tiên của mỗi dòng và lưu lại vào một tệp CSV mới. Đồng thời, chúng ta cũng sửa lỗi chính tả \"Thuesday\" thành \"Tuesday\"."
   ]
  },
  {
   "cell_type": "code",
   "execution_count": 121,
   "metadata": {},
   "outputs": [],
   "source": [
    "with open('Dataset/CSE-CIC-IDS2018/Thuesday-20-02-2018_TrafficForML_CICFlowMeter.csv', 'r') as source, \\\n",
    "    open('Dataset/CSE-CIC-IDS2018/Tuesday-20-02-2018_TrafficForML_CICFlowMeter_dropped_first_four_columns.csv', 'w') as result:\n",
    "\n",
    "    original_dataset = csv.reader(source)\n",
    "    writer = csv.writer(result)\n",
    "\n",
    "    for row in original_dataset:\n",
    "        # exclude the first 4 columns when writing the file\n",
    "        writer.writerow((row[4:]))"
   ]
  },
  {
   "cell_type": "markdown",
   "metadata": {},
   "source": [
    "### Tải tệp đã xử lý để đảm bảo rằng vấn đề đã được giải quyết"
   ]
  },
  {
   "cell_type": "code",
   "execution_count": 124,
   "metadata": {},
   "outputs": [
    {
     "name": "stdout",
     "output_type": "stream",
     "text": [
      "(10, 80)\n",
      "Index(['Dst Port', 'Protocol', 'Timestamp', 'Flow Duration', 'Tot Fwd Pkts',\n",
      "       'Tot Bwd Pkts', 'TotLen Fwd Pkts', 'TotLen Bwd Pkts', 'Fwd Pkt Len Max',\n",
      "       'Fwd Pkt Len Min', 'Fwd Pkt Len Mean', 'Fwd Pkt Len Std',\n",
      "       'Bwd Pkt Len Max', 'Bwd Pkt Len Min', 'Bwd Pkt Len Mean',\n",
      "       'Bwd Pkt Len Std', 'Flow Byts/s', 'Flow Pkts/s', 'Flow IAT Mean',\n",
      "       'Flow IAT Std', 'Flow IAT Max', 'Flow IAT Min', 'Fwd IAT Tot',\n",
      "       'Fwd IAT Mean', 'Fwd IAT Std', 'Fwd IAT Max', 'Fwd IAT Min',\n",
      "       'Bwd IAT Tot', 'Bwd IAT Mean', 'Bwd IAT Std', 'Bwd IAT Max',\n",
      "       'Bwd IAT Min', 'Fwd PSH Flags', 'Bwd PSH Flags', 'Fwd URG Flags',\n",
      "       'Bwd URG Flags', 'Fwd Header Len', 'Bwd Header Len', 'Fwd Pkts/s',\n",
      "       'Bwd Pkts/s', 'Pkt Len Min', 'Pkt Len Max', 'Pkt Len Mean',\n",
      "       'Pkt Len Std', 'Pkt Len Var', 'FIN Flag Cnt', 'SYN Flag Cnt',\n",
      "       'RST Flag Cnt', 'PSH Flag Cnt', 'ACK Flag Cnt', 'URG Flag Cnt',\n",
      "       'CWE Flag Count', 'ECE Flag Cnt', 'Down/Up Ratio', 'Pkt Size Avg',\n",
      "       'Fwd Seg Size Avg', 'Bwd Seg Size Avg', 'Fwd Byts/b Avg',\n",
      "       'Fwd Pkts/b Avg', 'Fwd Blk Rate Avg', 'Bwd Byts/b Avg',\n",
      "       'Bwd Pkts/b Avg', 'Bwd Blk Rate Avg', 'Subflow Fwd Pkts',\n",
      "       'Subflow Fwd Byts', 'Subflow Bwd Pkts', 'Subflow Bwd Byts',\n",
      "       'Init Fwd Win Byts', 'Init Bwd Win Byts', 'Fwd Act Data Pkts',\n",
      "       'Fwd Seg Size Min', 'Active Mean', 'Active Std', 'Active Max',\n",
      "       'Active Min', 'Idle Mean', 'Idle Std', 'Idle Max', 'Idle Min', 'Label'],\n",
      "      dtype='object')\n"
     ]
    }
   ],
   "source": [
    "cse_cic_ids2018_20022018 = pd.read_csv('Dataset/CSE-CIC-IDS2018/Tuesday-20-02-2018_TrafficForML_CICFlowMeter_dropped_first_four_columns.csv', nrows=10)\n",
    "print(cse_cic_ids2018_20022018.shape)\n",
    "print(cse_cic_ids2018_20022018.columns)"
   ]
  },
  {
   "cell_type": "markdown",
   "metadata": {},
   "source": [
    "## Bước 1. Kết hợp các tệp của bộ dữ liệu\n",
    "\n",
    "Khi kết hợp bộ dữ liệu CSE-CIC-IDS2018, chỉ 10% của bộ dữ liệu sẽ được sử dụng. Lý do là bộ dữ liệu 2018 quá lớn để có thể xử lý bởi phần cứng được sử dụng trong công việc này. Bên cạnh đó, bộ dữ liệu CSE-CIC-IDS2018 chỉ được sử dụng cho việc kiểm tra, 10% bộ dữ liệu là đủ."
   ]
  },
  {
   "cell_type": "code",
   "execution_count": 127,
   "metadata": {},
   "outputs": [],
   "source": [
    "dataset = 'CSE-CIC-IDS2018'\n",
    "dataset_csv_files = ('Friday-02-03-2018_TrafficForML_CICFlowMeter',\n",
    "                    'Friday-16-02-2018_TrafficForML_CICFlowMeter',\n",
    "                    'Friday-23-02-2018_TrafficForML_CICFlowMeter',\n",
    "                    'Tuesday-20-02-2018_TrafficForML_CICFlowMeter_dropped_first_four_columns',\n",
    "                    'Thursday-01-03-2018_TrafficForML_CICFlowMeter',\n",
    "                    'Thursday-15-02-2018_TrafficForML_CICFlowMeter',\n",
    "                    'Thursday-22-02-2018_TrafficForML_CICFlowMeter',\n",
    "                    'Wednesday-14-02-2018_TrafficForML_CICFlowMeter',\n",
    "                    'Wednesday-21-02-2018_TrafficForML_CICFlowMeter',\n",
    "                    'Wednesday-28-02-2018_TrafficForML_CICFlowMeter')"
   ]
  },
  {
   "cell_type": "code",
   "execution_count": 129,
   "metadata": {},
   "outputs": [],
   "source": [
    "combine_csv_files(dataset, dataset_csv_files, reduce_sample_size=True)"
   ]
  },
  {
   "cell_type": "markdown",
   "metadata": {},
   "source": [
    "## Bước 2. Phân tích sơ bộ"
   ]
  },
  {
   "cell_type": "code",
   "execution_count": 132,
   "metadata": {},
   "outputs": [
    {
     "data": {
      "text/html": [
       "<div>\n",
       "<style scoped>\n",
       "    .dataframe tbody tr th:only-of-type {\n",
       "        vertical-align: middle;\n",
       "    }\n",
       "\n",
       "    .dataframe tbody tr th {\n",
       "        vertical-align: top;\n",
       "    }\n",
       "\n",
       "    .dataframe thead th {\n",
       "        text-align: right;\n",
       "    }\n",
       "</style>\n",
       "<table border=\"1\" class=\"dataframe\">\n",
       "  <thead>\n",
       "    <tr style=\"text-align: right;\">\n",
       "      <th></th>\n",
       "      <th>Dst Port</th>\n",
       "      <th>Protocol</th>\n",
       "      <th>Timestamp</th>\n",
       "      <th>Flow Duration</th>\n",
       "      <th>Tot Fwd Pkts</th>\n",
       "      <th>Tot Bwd Pkts</th>\n",
       "      <th>TotLen Fwd Pkts</th>\n",
       "      <th>TotLen Bwd Pkts</th>\n",
       "      <th>Fwd Pkt Len Max</th>\n",
       "      <th>Fwd Pkt Len Min</th>\n",
       "      <th>...</th>\n",
       "      <th>Fwd Seg Size Min</th>\n",
       "      <th>Active Mean</th>\n",
       "      <th>Active Std</th>\n",
       "      <th>Active Max</th>\n",
       "      <th>Active Min</th>\n",
       "      <th>Idle Mean</th>\n",
       "      <th>Idle Std</th>\n",
       "      <th>Idle Max</th>\n",
       "      <th>Idle Min</th>\n",
       "      <th>Label</th>\n",
       "    </tr>\n",
       "  </thead>\n",
       "  <tbody>\n",
       "    <tr>\n",
       "      <th>0</th>\n",
       "      <td>49684</td>\n",
       "      <td>6</td>\n",
       "      <td>02/03/2018 08:47:38</td>\n",
       "      <td>281</td>\n",
       "      <td>2</td>\n",
       "      <td>1</td>\n",
       "      <td>38.0</td>\n",
       "      <td>0.0</td>\n",
       "      <td>38.0</td>\n",
       "      <td>0.0</td>\n",
       "      <td>...</td>\n",
       "      <td>20</td>\n",
       "      <td>0.0000</td>\n",
       "      <td>0.00000</td>\n",
       "      <td>0.0</td>\n",
       "      <td>0.0</td>\n",
       "      <td>0.0</td>\n",
       "      <td>0.00000</td>\n",
       "      <td>0.0</td>\n",
       "      <td>0.0</td>\n",
       "      <td>Benign</td>\n",
       "    </tr>\n",
       "    <tr>\n",
       "      <th>1</th>\n",
       "      <td>443</td>\n",
       "      <td>6</td>\n",
       "      <td>02/03/2018 08:47:41</td>\n",
       "      <td>250</td>\n",
       "      <td>2</td>\n",
       "      <td>0</td>\n",
       "      <td>0.0</td>\n",
       "      <td>0.0</td>\n",
       "      <td>0.0</td>\n",
       "      <td>0.0</td>\n",
       "      <td>...</td>\n",
       "      <td>20</td>\n",
       "      <td>0.0000</td>\n",
       "      <td>0.00000</td>\n",
       "      <td>0.0</td>\n",
       "      <td>0.0</td>\n",
       "      <td>0.0</td>\n",
       "      <td>0.00000</td>\n",
       "      <td>0.0</td>\n",
       "      <td>0.0</td>\n",
       "      <td>Benign</td>\n",
       "    </tr>\n",
       "    <tr>\n",
       "      <th>2</th>\n",
       "      <td>443</td>\n",
       "      <td>6</td>\n",
       "      <td>02/03/2018 08:47:40</td>\n",
       "      <td>60860062</td>\n",
       "      <td>15</td>\n",
       "      <td>13</td>\n",
       "      <td>870.0</td>\n",
       "      <td>3306.0</td>\n",
       "      <td>535.0</td>\n",
       "      <td>0.0</td>\n",
       "      <td>...</td>\n",
       "      <td>20</td>\n",
       "      <td>130201.6667</td>\n",
       "      <td>148831.65440</td>\n",
       "      <td>434003.0</td>\n",
       "      <td>69408.0</td>\n",
       "      <td>10000000.0</td>\n",
       "      <td>16330.68406</td>\n",
       "      <td>10000000.0</td>\n",
       "      <td>9968389.0</td>\n",
       "      <td>Benign</td>\n",
       "    </tr>\n",
       "    <tr>\n",
       "      <th>3</th>\n",
       "      <td>443</td>\n",
       "      <td>6</td>\n",
       "      <td>02/03/2018 08:47:38</td>\n",
       "      <td>118281864</td>\n",
       "      <td>36</td>\n",
       "      <td>83</td>\n",
       "      <td>1022.0</td>\n",
       "      <td>108156.0</td>\n",
       "      <td>250.0</td>\n",
       "      <td>0.0</td>\n",
       "      <td>...</td>\n",
       "      <td>20</td>\n",
       "      <td>134521.0000</td>\n",
       "      <td>79961.04903</td>\n",
       "      <td>191062.0</td>\n",
       "      <td>77980.0</td>\n",
       "      <td>59000000.0</td>\n",
       "      <td>44452.97491</td>\n",
       "      <td>59000000.0</td>\n",
       "      <td>58900000.0</td>\n",
       "      <td>Benign</td>\n",
       "    </tr>\n",
       "    <tr>\n",
       "      <th>4</th>\n",
       "      <td>49745</td>\n",
       "      <td>6</td>\n",
       "      <td>02/03/2018 08:51:24</td>\n",
       "      <td>96328</td>\n",
       "      <td>2</td>\n",
       "      <td>1</td>\n",
       "      <td>38.0</td>\n",
       "      <td>0.0</td>\n",
       "      <td>38.0</td>\n",
       "      <td>0.0</td>\n",
       "      <td>...</td>\n",
       "      <td>20</td>\n",
       "      <td>0.0000</td>\n",
       "      <td>0.00000</td>\n",
       "      <td>0.0</td>\n",
       "      <td>0.0</td>\n",
       "      <td>0.0</td>\n",
       "      <td>0.00000</td>\n",
       "      <td>0.0</td>\n",
       "      <td>0.0</td>\n",
       "      <td>Benign</td>\n",
       "    </tr>\n",
       "  </tbody>\n",
       "</table>\n",
       "<p>5 rows × 80 columns</p>\n",
       "</div>"
      ],
      "text/plain": [
       "   Dst Port  Protocol            Timestamp  Flow Duration  Tot Fwd Pkts  \\\n",
       "0     49684         6  02/03/2018 08:47:38            281             2   \n",
       "1       443         6  02/03/2018 08:47:41            250             2   \n",
       "2       443         6  02/03/2018 08:47:40       60860062            15   \n",
       "3       443         6  02/03/2018 08:47:38      118281864            36   \n",
       "4     49745         6  02/03/2018 08:51:24          96328             2   \n",
       "\n",
       "   Tot Bwd Pkts  TotLen Fwd Pkts  TotLen Bwd Pkts  Fwd Pkt Len Max  \\\n",
       "0             1             38.0              0.0             38.0   \n",
       "1             0              0.0              0.0              0.0   \n",
       "2            13            870.0           3306.0            535.0   \n",
       "3            83           1022.0         108156.0            250.0   \n",
       "4             1             38.0              0.0             38.0   \n",
       "\n",
       "   Fwd Pkt Len Min  ...  Fwd Seg Size Min  Active Mean    Active Std  \\\n",
       "0              0.0  ...                20       0.0000       0.00000   \n",
       "1              0.0  ...                20       0.0000       0.00000   \n",
       "2              0.0  ...                20  130201.6667  148831.65440   \n",
       "3              0.0  ...                20  134521.0000   79961.04903   \n",
       "4              0.0  ...                20       0.0000       0.00000   \n",
       "\n",
       "   Active Max  Active Min   Idle Mean     Idle Std    Idle Max    Idle Min  \\\n",
       "0         0.0         0.0         0.0      0.00000         0.0         0.0   \n",
       "1         0.0         0.0         0.0      0.00000         0.0         0.0   \n",
       "2    434003.0     69408.0  10000000.0  16330.68406  10000000.0   9968389.0   \n",
       "3    191062.0     77980.0  59000000.0  44452.97491  59000000.0  58900000.0   \n",
       "4         0.0         0.0         0.0      0.00000         0.0         0.0   \n",
       "\n",
       "    Label  \n",
       "0  Benign  \n",
       "1  Benign  \n",
       "2  Benign  \n",
       "3  Benign  \n",
       "4  Benign  \n",
       "\n",
       "[5 rows x 80 columns]"
      ]
     },
     "execution_count": 132,
     "metadata": {},
     "output_type": "execute_result"
    }
   ],
   "source": [
    "# load the dataset into one DataFrame\n",
    "cse_cic_ids2018 = pd.read_csv('Dataset/dataset_combined/CSE-CIC-IDS2018.csv')\n",
    "cse_cic_ids2018.head()"
   ]
  },
  {
   "cell_type": "code",
   "execution_count": 134,
   "metadata": {},
   "outputs": [
    {
     "name": "stdout",
     "output_type": "stream",
     "text": [
      "Number of rows: 1622580\n",
      "Number of columns: 80\n"
     ]
    }
   ],
   "source": [
    "print(f\"Number of rows: {cse_cic_ids2018.shape[0]}\")\n",
    "print(f\"Number of columns: {cse_cic_ids2018.shape[1]}\")"
   ]
  },
  {
   "cell_type": "code",
   "execution_count": 136,
   "metadata": {},
   "outputs": [
    {
     "name": "stdout",
     "output_type": "stream",
     "text": [
      "Columns in the dataset:\n"
     ]
    },
    {
     "data": {
      "text/plain": [
       "Index(['Destination Port', 'Flow Duration', 'Total Fwd Packets',\n",
       "       'Total Backward Packets', 'Total Length of Fwd Packets',\n",
       "       'Total Length of Bwd Packets', 'Fwd Packet Length Max',\n",
       "       'Fwd Packet Length Min', 'Fwd Packet Length Mean',\n",
       "       'Fwd Packet Length Std', 'Bwd Packet Length Max',\n",
       "       'Bwd Packet Length Min', 'Bwd Packet Length Mean',\n",
       "       'Bwd Packet Length Std', 'Flow Bytes/s', 'Flow Packets/s',\n",
       "       'Flow IAT Mean', 'Flow IAT Std', 'Flow IAT Max', 'Flow IAT Min',\n",
       "       'Fwd IAT Total', 'Fwd IAT Mean', 'Fwd IAT Std', 'Fwd IAT Max',\n",
       "       'Fwd IAT Min', 'Bwd IAT Total', 'Bwd IAT Mean', 'Bwd IAT Std',\n",
       "       'Bwd IAT Max', 'Bwd IAT Min', 'Fwd PSH Flags', 'Bwd PSH Flags',\n",
       "       'Fwd URG Flags', 'Bwd URG Flags', 'Fwd Header Length',\n",
       "       'Bwd Header Length', 'Fwd Packets/s', 'Bwd Packets/s',\n",
       "       'Min Packet Length', 'Max Packet Length', 'Packet Length Mean',\n",
       "       'Packet Length Std', 'Packet Length Variance', 'FIN Flag Count',\n",
       "       'SYN Flag Count', 'RST Flag Count', 'PSH Flag Count', 'ACK Flag Count',\n",
       "       'URG Flag Count', 'CWE Flag Count', 'ECE Flag Count', 'Down/Up Ratio',\n",
       "       'Average Packet Size', 'Avg Fwd Segment Size', 'Avg Bwd Segment Size',\n",
       "       'Fwd Avg Bytes/Bulk', 'Fwd Avg Packets/Bulk', 'Fwd Avg Bulk Rate',\n",
       "       'Bwd Avg Bytes/Bulk', 'Bwd Avg Packets/Bulk', 'Bwd Avg Bulk Rate',\n",
       "       'Subflow Fwd Packets', 'Subflow Fwd Bytes', 'Subflow Bwd Packets',\n",
       "       'Subflow Bwd Bytes', 'Init_Win_bytes_forward',\n",
       "       'Init_Win_bytes_backward', 'act_data_pkt_fwd', 'min_seg_size_forward',\n",
       "       'Active Mean', 'Active Std', 'Active Max', 'Active Min', 'Idle Mean',\n",
       "       'Idle Std', 'Idle Max', 'Idle Min', 'Label'],\n",
       "      dtype='object')"
      ]
     },
     "execution_count": 136,
     "metadata": {},
     "output_type": "execute_result"
    }
   ],
   "source": [
    "print(\"Các cột trong bộ dữ liệu:\")\n",
    "cic_ids2017.columns"
   ]
  },
  {
   "cell_type": "markdown",
   "metadata": {},
   "source": [
    "Cũng giống như bộ dữ liệu CIC-IDS2017, bộ dữ liệu CSE-CIC-IDS2018 cũng gặp phải vấn đề mất cân bằng lớp nghiêm trọng."
   ]
  },
  {
   "cell_type": "code",
   "execution_count": 139,
   "metadata": {},
   "outputs": [
    {
     "name": "stdout",
     "output_type": "stream",
     "text": [
      "Class distribution:\n"
     ]
    },
    {
     "data": {
      "text/plain": [
       "Label\n",
       "Benign                      1347953\n",
       "DDOS attack-HOIC              68801\n",
       "DDoS attacks-LOIC-HTTP        57550\n",
       "DoS attacks-Hulk              46014\n",
       "Bot                           28539\n",
       "FTP-BruteForce                19484\n",
       "SSH-Bruteforce                18485\n",
       "Infilteration                 16160\n",
       "DoS attacks-SlowHTTPTest      14110\n",
       "DoS attacks-GoldenEye          4154\n",
       "DoS attacks-Slowloris          1076\n",
       "DDOS attack-LOIC-UDP            163\n",
       "Brute Force -Web                 59\n",
       "Brute Force -XSS                 25\n",
       "SQL Injection                     7\n",
       "Name: count, dtype: int64"
      ]
     },
     "execution_count": 139,
     "metadata": {},
     "output_type": "execute_result"
    }
   ],
   "source": [
    "print('Phân phối lớp:')\n",
    "cse_cic_ids2018['Label'].value_counts()"
   ]
  },
  {
   "cell_type": "code",
   "execution_count": 141,
   "metadata": {},
   "outputs": [
    {
     "name": "stdout",
     "output_type": "stream",
     "text": [
      "Class distribution (normalized):\n"
     ]
    },
    {
     "data": {
      "text/plain": [
       "Label\n",
       "Benign                      83.074671\n",
       "DDOS attack-HOIC             4.240222\n",
       "DDoS attacks-LOIC-HTTP       3.546820\n",
       "DoS attacks-Hulk             2.835854\n",
       "Bot                          1.758866\n",
       "FTP-BruteForce               1.200804\n",
       "SSH-Bruteforce               1.139235\n",
       "Infilteration                0.995945\n",
       "DoS attacks-SlowHTTPTest     0.869603\n",
       "DoS attacks-GoldenEye        0.256012\n",
       "DoS attacks-Slowloris        0.066314\n",
       "DDOS attack-LOIC-UDP         0.010046\n",
       "Brute Force -Web             0.003636\n",
       "Brute Force -XSS             0.001541\n",
       "SQL Injection                0.000431\n",
       "Name: count, dtype: float64"
      ]
     },
     "execution_count": 141,
     "metadata": {},
     "output_type": "execute_result"
    }
   ],
   "source": [
    "print('Phân phối lớp (đã chuẩn hóa):')\n",
    "cse_cic_ids2018['Label'].value_counts()/cse_cic_ids2018.shape[0]*100"
   ]
  },
  {
   "cell_type": "markdown",
   "metadata": {},
   "source": [
    "### Kiểm tra giá trị null"
   ]
  },
  {
   "cell_type": "code",
   "execution_count": 144,
   "metadata": {},
   "outputs": [
    {
     "name": "stdout",
     "output_type": "stream",
     "text": [
      "Rows contain null value: \n",
      "Flow Byts/s    5975\n",
      "dtype: int64\n",
      "\n",
      "Rows contain null value (percentage): \n",
      "Flow Byts/s    0.368241\n",
      "dtype: float64\n",
      "\n"
     ]
    }
   ],
   "source": [
    "cse_cic_ids2018_null_count = cse_cic_ids2018.isnull().sum()\n",
    "cse_cic_ids2018_null_count = cse_cic_ids2018_null_count[cse_cic_ids2018_null_count > 0]\n",
    "print(f\"Các dòng chứa giá trị null: \\n{cse_cic_ids2018_null_count}\\n\")\n",
    "\n",
    "cse_cic_ids2018_null_count = cse_cic_ids2018_null_count / cse_cic_ids2018.shape[0] * 100\n",
    "print(f\"Tỷ lệ phần trăm các dòng chứa giá trị null \\n{cse_cic_ids2018_null_count}\\n\")"
   ]
  },
  {
   "cell_type": "markdown",
   "metadata": {},
   "source": [
    "### Kiểm tra giá trị vô cực"
   ]
  },
  {
   "cell_type": "code",
   "execution_count": 147,
   "metadata": {},
   "outputs": [
    {
     "name": "stdout",
     "output_type": "stream",
     "text": [
      "Number of rows includes infinity value: 9539; 0.59% of rows\n"
     ]
    }
   ],
   "source": [
    "inf_count = np.isinf(cse_cic_ids2018.iloc[:, 3:-1]).any(axis=1).sum()\n",
    "print(f'Số lượng dòng chứa giá trị vô cực: {inf_count}; {inf_count/cse_cic_ids2018.shape[0]*100:.2f}% of rows')"
   ]
  },
  {
   "cell_type": "markdown",
   "metadata": {},
   "source": [
    "### Kiểm tra các cột chứa giá trị chuỗi\n",
    "\n",
    "Bộ dữ liệu CSE-CIC-IDS2018 chứa hai cột có kiểu dữ liệu`object`, đó là cột `Timestamp` và `Label`. Vì cả hai cột này không lưu trữ giá trị số, điều này là hoàn toàn bình thường và không cần làm sạch thêm."
   ]
  },
  {
   "cell_type": "code",
   "execution_count": 150,
   "metadata": {},
   "outputs": [
    {
     "data": {
      "text/plain": [
       "Timestamp    object\n",
       "Label        object\n",
       "dtype: object"
      ]
     },
     "execution_count": 150,
     "metadata": {},
     "output_type": "execute_result"
    }
   ],
   "source": [
    "cse_cic_ids2018.dtypes[(cse_cic_ids2018.dtypes != 'int64') & (cse_cic_ids2018.dtypes != 'float64')]"
   ]
  },
  {
   "cell_type": "code",
   "execution_count": 152,
   "metadata": {},
   "outputs": [
    {
     "data": {
      "text/plain": [
       "array(['Benign', 'Bot', 'DoS attacks-SlowHTTPTest', 'DoS attacks-Hulk',\n",
       "       'Brute Force -Web', 'Brute Force -XSS', 'SQL Injection',\n",
       "       'DDoS attacks-LOIC-HTTP', 'Infilteration', 'DoS attacks-GoldenEye',\n",
       "       'DoS attacks-Slowloris', 'FTP-BruteForce', 'SSH-Bruteforce',\n",
       "       'DDOS attack-LOIC-UDP', 'DDOS attack-HOIC'], dtype=object)"
      ]
     },
     "execution_count": 152,
     "metadata": {},
     "output_type": "execute_result"
    }
   ],
   "source": [
    "cse_cic_ids2018['Label'].unique()"
   ]
  },
  {
   "cell_type": "code",
   "execution_count": 154,
   "metadata": {},
   "outputs": [
    {
     "data": {
      "text/plain": [
       "0          02/03/2018 08:47:38\n",
       "1          02/03/2018 08:47:41\n",
       "2          02/03/2018 08:47:40\n",
       "3          02/03/2018 08:47:38\n",
       "4          02/03/2018 08:51:24\n",
       "                  ...         \n",
       "1622575    28/02/2018 01:48:05\n",
       "1622576    28/02/2018 02:23:17\n",
       "1622577    28/02/2018 04:05:10\n",
       "1622578    28/02/2018 11:12:19\n",
       "1622579    28/02/2018 01:48:05\n",
       "Name: Timestamp, Length: 1622580, dtype: object"
      ]
     },
     "execution_count": 154,
     "metadata": {},
     "output_type": "execute_result"
    }
   ],
   "source": [
    "cse_cic_ids2018['Timestamp']\n"
   ]
  },
  {
   "cell_type": "markdown",
   "metadata": {},
   "source": [
    "### Kiểm tra các cột bị trùng lặp"
   ]
  },
  {
   "cell_type": "markdown",
   "metadata": {},
   "source": [
    "Check for duplicated column"
   ]
  },
  {
   "cell_type": "code",
   "execution_count": 158,
   "metadata": {},
   "outputs": [
    {
     "data": {
      "text/plain": [
       "Index([], dtype='object')"
      ]
     },
     "execution_count": 158,
     "metadata": {},
     "output_type": "execute_result"
    }
   ],
   "source": [
    "cse_cic_ids2018.columns[cse_cic_ids2018.columns.value_counts() > 1]"
   ]
  },
  {
   "cell_type": "markdown",
   "metadata": {},
   "source": [
    "Check for duplicate rows"
   ]
  },
  {
   "cell_type": "code",
   "execution_count": 161,
   "metadata": {},
   "outputs": [
    {
     "name": "stdout",
     "output_type": "stream",
     "text": [
      "number of duplicated rows: 17140\n",
      "1.06% of rows are duplicates\n"
     ]
    }
   ],
   "source": [
    "cse_cic_ids2018_duplicates = cse_cic_ids2018[cse_cic_ids2018.duplicated()]\n",
    "print(f\"number of duplicated rows: {cse_cic_ids2018_duplicates.shape[0]}\")\n",
    "print(f\"{cse_cic_ids2018_duplicates.shape[0]/cse_cic_ids2018.shape[0]*100:.2f}% of rows are duplicates\")"
   ]
  },
  {
   "cell_type": "markdown",
   "metadata": {},
   "source": [
    "## Bước 3. Làm sạch bộ dữ liệu\n",
    "\n",
    "Từ phân tích ở Bước 2, đã phát hiện rằng bộ dữ liệu CSE-CIC-IDS2018 chứa một lượng nhỏ các dòng có giá trị thiếu hoặc giá trị vô cực và một lượng nhỏ các bản sao. Những bản ghi này sẽ được loại bỏ vì chúng chỉ chiếm một phần nhỏ trong bộ dữ liệu."
   ]
  },
  {
   "cell_type": "code",
   "execution_count": 164,
   "metadata": {},
   "outputs": [
    {
     "name": "stderr",
     "output_type": "stream",
     "text": [
      "C:\\Users\\garan\\AppData\\Local\\Temp\\ipykernel_11132\\1842356312.py:2: FutureWarning: use_inf_as_na option is deprecated and will be removed in a future version. Convert inf values to NaN before operating instead.\n",
      "  with pd.option_context('mode.use_inf_as_na', True):\n"
     ]
    },
    {
     "data": {
      "text/plain": [
       "(1613041, 80)"
      ]
     },
     "execution_count": 164,
     "metadata": {},
     "output_type": "execute_result"
    }
   ],
   "source": [
    "# Loại bỏ các dòng có giá trị null và giá trị vô cực\n",
    "with pd.option_context('mode.use_inf_as_na', True):\n",
    "    cse_cic_ids2018 = cse_cic_ids2018.dropna(how='any')\n",
    "\n",
    "cse_cic_ids2018.shape"
   ]
  },
  {
   "cell_type": "markdown",
   "metadata": {},
   "source": [
    "'mode.use_inf_as_na' là một tùy chọn trong pandas, giúp xử lý các giá trị vô cực (infinity) như giá trị thiếu (NaN). Khi tùy chọn này được bật, bất kỳ giá trị vô cực nào trong bộ dữ liệu sẽ được coi là giá trị thiếu và có thể được xử lý bằng các phương pháp xử lý giá trị thiếu như dropna() hoặc fillna().\n",
    "\n",
    "Cụ thể, khi mode.use_inf_as_na được đặt là True, pandas sẽ tự động coi các giá trị vô cực như NaN trong các phép toán hoặc khi xử lý dữ liệu, giúp dễ dàng xử lý chúng trong quá trình làm sạch và phân tích dữ liệu."
   ]
  },
  {
   "cell_type": "code",
   "execution_count": 166,
   "metadata": {},
   "outputs": [
    {
     "data": {
      "text/plain": [
       "(1595913, 80)"
      ]
     },
     "execution_count": 166,
     "metadata": {},
     "output_type": "execute_result"
    }
   ],
   "source": [
    "cse_cic_ids2018 = cse_cic_ids2018.drop_duplicates()\n",
    "cse_cic_ids2018.shape"
   ]
  },
  {
   "cell_type": "markdown",
   "metadata": {},
   "source": [
    "## Bước 4. Chuẩn bị bộ dữ liệu\n",
    "\n",
    "Đối với bộ dữ liệu CSE-CIC-IDS2018, có hai mục tiêu trong bước này:\n",
    "\n",
    "1. Giống như bộ dữ liệu CIC-IDS2017, bộ dữ liệu 2018 sẽ được giảm mẫu và tất cả các mẫu tấn công sẽ được gán nhãn là 'malicious'.\n",
    "\n",
    "2. Các tên cột của bộ dữ liệu 2018 sẽ được sửa đổi để khớp với bộ dữ liệu 2017."
   ]
  },
  {
   "cell_type": "markdown",
   "metadata": {},
   "source": [
    "### Giảm mẫu bộ dữ liệu"
   ]
  },
  {
   "cell_type": "code",
   "execution_count": null,
   "metadata": {},
   "outputs": [],
   "source": [
    "# Lấy số lượng mẫu cho mỗi lớp\n",
    "sample_count_per_class = cse_cic_ids2018['Label'].value_counts()\n",
    "sample_count_per_class"
   ]
  },
  {
   "cell_type": "code",
   "execution_count": 172,
   "metadata": {},
   "outputs": [
    {
     "name": "stdout",
     "output_type": "stream",
     "text": [
      "Distribution of class after downsampling\n"
     ]
    },
    {
     "data": {
      "text/plain": [
       "Label\n",
       "Benign                      257791\n",
       "DDOS attack-HOIC             68628\n",
       "DDoS attacks-LOIC-HTTP       57550\n",
       "DoS attacks-Hulk             45691\n",
       "Bot                          28501\n",
       "SSH-Bruteforce               16312\n",
       "Infilteration                16034\n",
       "FTP-BruteForce               12368\n",
       "DoS attacks-SlowHTTPTest      7251\n",
       "DoS attacks-GoldenEye         4153\n",
       "DoS attacks-Slowloris         1049\n",
       "DDOS attack-LOIC-UDP           163\n",
       "Brute Force -Web                59\n",
       "Brute Force -XSS                25\n",
       "SQL Injection                    7\n",
       "Name: count, dtype: int64"
      ]
     },
     "execution_count": 172,
     "metadata": {},
     "output_type": "execute_result"
    }
   ],
   "source": [
    "ids2018_attack = downsample_dataset(cse_cic_ids2018, sample_count_per_class[1:], max_sample=100000)\n",
    "num_attack_sample = ids2018_attack.shape[0]\n",
    "ids2018_benign = cse_cic_ids2018[cse_cic_ids2018['Label'] == 'Benign'].sample(n=num_attack_sample).reset_index(drop=True)\n",
    "ids2018_downsampled = pd.concat([ids2018_attack, ids2018_benign])\n",
    "del ids2018_attack\n",
    "del ids2018_benign\n",
    "\n",
    "print('Phân phối lớp sau khi giảm mẫu')\n",
    "ids2018_downsampled['Label'].value_counts()"
   ]
  },
  {
   "cell_type": "code",
   "execution_count": 174,
   "metadata": {},
   "outputs": [
    {
     "name": "stdout",
     "output_type": "stream",
     "text": [
      "Class distribution (normalized):\n"
     ]
    },
    {
     "data": {
      "text/plain": [
       "Label\n",
       "Benign                      50.000000\n",
       "DDOS attack-HOIC            13.310783\n",
       "DDoS attacks-LOIC-HTTP      11.162143\n",
       "DoS attacks-Hulk             8.862024\n",
       "Bot                          5.527928\n",
       "SSH-Bruteforce               3.163803\n",
       "Infilteration                3.109884\n",
       "FTP-BruteForce               2.398842\n",
       "DoS attacks-SlowHTTPTest     1.406372\n",
       "DoS attacks-GoldenEye        0.805497\n",
       "DoS attacks-Slowloris        0.203459\n",
       "DDOS attack-LOIC-UDP         0.031615\n",
       "Brute Force -Web             0.011443\n",
       "Brute Force -XSS             0.004849\n",
       "SQL Injection                0.001358\n",
       "Name: count, dtype: float64"
      ]
     },
     "execution_count": 174,
     "metadata": {},
     "output_type": "execute_result"
    }
   ],
   "source": [
    "print('Phân phối lớp (đã chuẩn hóa):')\n",
    "ids2018_downsampled['Label'].value_counts()/ids2018_downsampled.shape[0]*100"
   ]
  },
  {
   "cell_type": "markdown",
   "metadata": {},
   "source": [
    "### Gán lại nhãn cho bộ dữ liệu"
   ]
  },
  {
   "cell_type": "code",
   "execution_count": null,
   "metadata": {},
   "outputs": [],
   "source": [
    "# Thay thế nhãn của tất cả các lớp tấn công thành 'malicious'\n",
    "# Thay thế nhãn của tất cả các lớp an toàn thành 'benign'\n",
    "ids2018_downsampled.iloc[ids2018_downsampled['Label'] != 'Benign', -1] = 'malicious'\n",
    "ids2018_downsampled.iloc[ids2018_downsampled['Label'] == 'Benign', -1] = 'benign'\n",
    "ids2018_downsampled['Label'].value_counts()"
   ]
  },
  {
   "cell_type": "markdown",
   "metadata": {},
   "source": [
    "### Căn chỉnh tên cột với bộ dữ liệu CIC-IDS2017"
   ]
  },
  {
   "cell_type": "code",
   "execution_count": 180,
   "metadata": {},
   "outputs": [],
   "source": [
    "ids2018_columns = pd.Series(ids2018_downsampled.columns, dtype='str')\n",
    "ids2017_columns = pd.Series(cic_ids2017.columns, dtype='str')"
   ]
  },
  {
   "cell_type": "code",
   "execution_count": 182,
   "metadata": {},
   "outputs": [],
   "source": [
    "column_mapping = {\n",
    "    \"Dst\": \"Destination\",\n",
    "    \"TotLen\": \"Total Length\",\n",
    "    \"Tot\": \"Total\", \n",
    "    \"Pkt\": \"Packet\",\n",
    "    \"Len\": \"Length\",\n",
    "    \"Cnt\": \"Count\", \n",
    "    \"Var\": \"Variance\",\n",
    "    \"Total Bwd Packets\": \"Total Backward Packets\", \n",
    "    \"Totalal Lengthgth Fwd Packets\": \"Total Length of Fwd Packets\", \n",
    "    \"Totalal Lengthgth Bwd Packets\": \"Total Length of Bwd Packets\", \n",
    "    \"Flow Byts/s\": \"Flow Bytes/s\",\n",
    "    \"Packet Size Avg\": \"Average Packet Size\",\n",
    "    \"Fwd Seg Size Avg\": \"Avg Fwd Segment Size\",\n",
    "    \"Bwd Seg Size Avg\": \"Avg Bwd Segment Size\",\n",
    "    \"Fwd Byts/b Avg\": \"Fwd Avg Bytes/Bulk\",\n",
    "    \"Fwd Packets/b Avg\": \"Fwd Avg Packets/Bulk\",\n",
    "    \"Fwd Blk Rate Avg\": \"Fwd Avg Bulk Rate\", \n",
    "    \"Bwd Byts/b Avg\": \"Bwd Avg Bytes/Bulk\",\n",
    "    \"Bwd Packets/b Avg\": \"Bwd Avg Packets/Bulk\",\n",
    "    \"Bwd Blk Rate Avg\": \"Bwd Avg Bulk Rate\", \n",
    "    \"Init Fwd Win Byts\": \"Init_Win_bytes_forward\", \n",
    "    \"Init Bwd Win Byts\": \"Init_Win_bytes_backward\",\n",
    "    \"Fwd Act Data Packets\": \"act_data_pkt_fwd\",\n",
    "    \"Fwd Seg Size Min\": \"min_seg_size_forward\",\n",
    "    \"Subflow Fwd Byts\": \"Subflow Fwd Bytes\", \n",
    "    \"Subflow Bwd Byts\": \"Subflow Bwd Bytes\"\n",
    "}"
   ]
  },
  {
   "cell_type": "code",
   "execution_count": 184,
   "metadata": {},
   "outputs": [],
   "source": [
    "# Đổi tên các cột của bộ dữ liệu 2018\n",
    "for original_value in column_mapping:\n",
    "    ids2018_columns = ids2018_columns.replace({original_value: column_mapping[original_value]}, regex=True)\n",
    "\n",
    "ids2018_columns[40] = 'Min Packet Length'\n",
    "ids2018_columns[41] = 'Max Packet Length'"
   ]
  },
  {
   "cell_type": "markdown",
   "metadata": {},
   "source": [
    "Kiểm tra các cột thừa trong bộ dữ liệu CSE-CIC-IDS2018"
   ]
  },
  {
   "cell_type": "code",
   "execution_count": 187,
   "metadata": {},
   "outputs": [
    {
     "data": {
      "text/plain": [
       "1     Protocol\n",
       "2    Timestamp\n",
       "dtype: object"
      ]
     },
     "execution_count": 187,
     "metadata": {},
     "output_type": "execute_result"
    }
   ],
   "source": [
    "ids2018_columns[~ids2018_columns.isin(ids2017_columns)]"
   ]
  },
  {
   "cell_type": "markdown",
   "metadata": {},
   "source": [
    "Kiểm tra xem bộ dữ liệu CSE-CIC-IDS2018 có thiếu cột nào có trong bộ dữ liệu CIC-IDS2017 hay không"
   ]
  },
  {
   "cell_type": "code",
   "execution_count": 190,
   "metadata": {},
   "outputs": [
    {
     "data": {
      "text/plain": [
       "Series([], dtype: object)"
      ]
     },
     "execution_count": 190,
     "metadata": {},
     "output_type": "execute_result"
    }
   ],
   "source": [
    "ids2017_columns[~ids2017_columns.isin(ids2018_columns)]"
   ]
  },
  {
   "cell_type": "markdown",
   "metadata": {},
   "source": [
    "Thay đổi tên cột của DataFrame và loại bỏ các cột bổ sung"
   ]
  },
  {
   "cell_type": "code",
   "execution_count": 193,
   "metadata": {},
   "outputs": [
    {
     "data": {
      "text/html": [
       "<div>\n",
       "<style scoped>\n",
       "    .dataframe tbody tr th:only-of-type {\n",
       "        vertical-align: middle;\n",
       "    }\n",
       "\n",
       "    .dataframe tbody tr th {\n",
       "        vertical-align: top;\n",
       "    }\n",
       "\n",
       "    .dataframe thead th {\n",
       "        text-align: right;\n",
       "    }\n",
       "</style>\n",
       "<table border=\"1\" class=\"dataframe\">\n",
       "  <thead>\n",
       "    <tr style=\"text-align: right;\">\n",
       "      <th></th>\n",
       "      <th>Destination Port</th>\n",
       "      <th>Flow Duration</th>\n",
       "      <th>Total Fwd Packets</th>\n",
       "      <th>Total Backward Packets</th>\n",
       "      <th>Total Length of Fwd Packets</th>\n",
       "      <th>Total Length of Bwd Packets</th>\n",
       "      <th>Fwd Packet Length Max</th>\n",
       "      <th>Fwd Packet Length Min</th>\n",
       "      <th>Fwd Packet Length Mean</th>\n",
       "      <th>Fwd Packet Length Std</th>\n",
       "      <th>...</th>\n",
       "      <th>min_seg_size_forward</th>\n",
       "      <th>Active Mean</th>\n",
       "      <th>Active Std</th>\n",
       "      <th>Active Max</th>\n",
       "      <th>Active Min</th>\n",
       "      <th>Idle Mean</th>\n",
       "      <th>Idle Std</th>\n",
       "      <th>Idle Max</th>\n",
       "      <th>Idle Min</th>\n",
       "      <th>Label</th>\n",
       "    </tr>\n",
       "  </thead>\n",
       "  <tbody>\n",
       "    <tr>\n",
       "      <th>0</th>\n",
       "      <td>80</td>\n",
       "      <td>1794</td>\n",
       "      <td>3</td>\n",
       "      <td>4</td>\n",
       "      <td>309.0</td>\n",
       "      <td>935.0</td>\n",
       "      <td>309.0</td>\n",
       "      <td>0.0</td>\n",
       "      <td>103.000000</td>\n",
       "      <td>178.401233</td>\n",
       "      <td>...</td>\n",
       "      <td>20</td>\n",
       "      <td>0.0</td>\n",
       "      <td>0.0</td>\n",
       "      <td>0.0</td>\n",
       "      <td>0.0</td>\n",
       "      <td>0.0</td>\n",
       "      <td>0.0</td>\n",
       "      <td>0.0</td>\n",
       "      <td>0.0</td>\n",
       "      <td>malicious</td>\n",
       "    </tr>\n",
       "    <tr>\n",
       "      <th>1</th>\n",
       "      <td>80</td>\n",
       "      <td>1205</td>\n",
       "      <td>2</td>\n",
       "      <td>0</td>\n",
       "      <td>0.0</td>\n",
       "      <td>0.0</td>\n",
       "      <td>0.0</td>\n",
       "      <td>0.0</td>\n",
       "      <td>0.000000</td>\n",
       "      <td>0.000000</td>\n",
       "      <td>...</td>\n",
       "      <td>20</td>\n",
       "      <td>0.0</td>\n",
       "      <td>0.0</td>\n",
       "      <td>0.0</td>\n",
       "      <td>0.0</td>\n",
       "      <td>0.0</td>\n",
       "      <td>0.0</td>\n",
       "      <td>0.0</td>\n",
       "      <td>0.0</td>\n",
       "      <td>malicious</td>\n",
       "    </tr>\n",
       "    <tr>\n",
       "      <th>2</th>\n",
       "      <td>80</td>\n",
       "      <td>18083</td>\n",
       "      <td>3</td>\n",
       "      <td>4</td>\n",
       "      <td>298.0</td>\n",
       "      <td>935.0</td>\n",
       "      <td>298.0</td>\n",
       "      <td>0.0</td>\n",
       "      <td>99.333333</td>\n",
       "      <td>172.050380</td>\n",
       "      <td>...</td>\n",
       "      <td>20</td>\n",
       "      <td>0.0</td>\n",
       "      <td>0.0</td>\n",
       "      <td>0.0</td>\n",
       "      <td>0.0</td>\n",
       "      <td>0.0</td>\n",
       "      <td>0.0</td>\n",
       "      <td>0.0</td>\n",
       "      <td>0.0</td>\n",
       "      <td>malicious</td>\n",
       "    </tr>\n",
       "    <tr>\n",
       "      <th>3</th>\n",
       "      <td>80</td>\n",
       "      <td>23013</td>\n",
       "      <td>2</td>\n",
       "      <td>0</td>\n",
       "      <td>0.0</td>\n",
       "      <td>0.0</td>\n",
       "      <td>0.0</td>\n",
       "      <td>0.0</td>\n",
       "      <td>0.000000</td>\n",
       "      <td>0.000000</td>\n",
       "      <td>...</td>\n",
       "      <td>20</td>\n",
       "      <td>0.0</td>\n",
       "      <td>0.0</td>\n",
       "      <td>0.0</td>\n",
       "      <td>0.0</td>\n",
       "      <td>0.0</td>\n",
       "      <td>0.0</td>\n",
       "      <td>0.0</td>\n",
       "      <td>0.0</td>\n",
       "      <td>malicious</td>\n",
       "    </tr>\n",
       "    <tr>\n",
       "      <th>4</th>\n",
       "      <td>80</td>\n",
       "      <td>17255</td>\n",
       "      <td>3</td>\n",
       "      <td>4</td>\n",
       "      <td>326.0</td>\n",
       "      <td>935.0</td>\n",
       "      <td>326.0</td>\n",
       "      <td>0.0</td>\n",
       "      <td>108.666667</td>\n",
       "      <td>188.216188</td>\n",
       "      <td>...</td>\n",
       "      <td>20</td>\n",
       "      <td>0.0</td>\n",
       "      <td>0.0</td>\n",
       "      <td>0.0</td>\n",
       "      <td>0.0</td>\n",
       "      <td>0.0</td>\n",
       "      <td>0.0</td>\n",
       "      <td>0.0</td>\n",
       "      <td>0.0</td>\n",
       "      <td>malicious</td>\n",
       "    </tr>\n",
       "  </tbody>\n",
       "</table>\n",
       "<p>5 rows × 78 columns</p>\n",
       "</div>"
      ],
      "text/plain": [
       "   Destination Port  Flow Duration  Total Fwd Packets  Total Backward Packets  \\\n",
       "0                80           1794                  3                       4   \n",
       "1                80           1205                  2                       0   \n",
       "2                80          18083                  3                       4   \n",
       "3                80          23013                  2                       0   \n",
       "4                80          17255                  3                       4   \n",
       "\n",
       "   Total Length of Fwd Packets  Total Length of Bwd Packets  \\\n",
       "0                        309.0                        935.0   \n",
       "1                          0.0                          0.0   \n",
       "2                        298.0                        935.0   \n",
       "3                          0.0                          0.0   \n",
       "4                        326.0                        935.0   \n",
       "\n",
       "   Fwd Packet Length Max  Fwd Packet Length Min  Fwd Packet Length Mean  \\\n",
       "0                  309.0                    0.0              103.000000   \n",
       "1                    0.0                    0.0                0.000000   \n",
       "2                  298.0                    0.0               99.333333   \n",
       "3                    0.0                    0.0                0.000000   \n",
       "4                  326.0                    0.0              108.666667   \n",
       "\n",
       "   Fwd Packet Length Std  ...  min_seg_size_forward  Active Mean  Active Std  \\\n",
       "0             178.401233  ...                    20          0.0         0.0   \n",
       "1               0.000000  ...                    20          0.0         0.0   \n",
       "2             172.050380  ...                    20          0.0         0.0   \n",
       "3               0.000000  ...                    20          0.0         0.0   \n",
       "4             188.216188  ...                    20          0.0         0.0   \n",
       "\n",
       "   Active Max  Active Min  Idle Mean  Idle Std  Idle Max  Idle Min      Label  \n",
       "0         0.0         0.0        0.0       0.0       0.0       0.0  malicious  \n",
       "1         0.0         0.0        0.0       0.0       0.0       0.0  malicious  \n",
       "2         0.0         0.0        0.0       0.0       0.0       0.0  malicious  \n",
       "3         0.0         0.0        0.0       0.0       0.0       0.0  malicious  \n",
       "4         0.0         0.0        0.0       0.0       0.0       0.0  malicious  \n",
       "\n",
       "[5 rows x 78 columns]"
      ]
     },
     "execution_count": 193,
     "metadata": {},
     "output_type": "execute_result"
    }
   ],
   "source": [
    "ids2018_downsampled.columns = ids2018_columns\n",
    "# drop the additional columns\n",
    "ids2018_downsampled = ids2018_downsampled.drop(['Protocol', 'Timestamp'], axis=1).copy()\n",
    "ids2018_downsampled.head()"
   ]
  },
  {
   "cell_type": "markdown",
   "metadata": {},
   "source": [
    "### Đảm bảo thứ tự các cột hoàn toàn giống nhau ở cả hai bộ dữ liệu"
   ]
  },
  {
   "cell_type": "code",
   "execution_count": 196,
   "metadata": {},
   "outputs": [],
   "source": [
    "ids2018_downsampled = ids2018_downsampled.reindex(columns=ids2017_columns)"
   ]
  },
  {
   "cell_type": "markdown",
   "metadata": {},
   "source": [
    "## Bước 5. Lưu bộ dữ liệu"
   ]
  },
  {
   "cell_type": "code",
   "execution_count": 199,
   "metadata": {},
   "outputs": [],
   "source": [
    "save_cleaned_dataset(ids2018_downsampled, 'CSE-CIC-IDS2018')"
   ]
  }
 ],
 "metadata": {
  "interpreter": {
   "hash": "44c13dc6c3f21bbb987c14254e5f1628aa054b85b2e38852b8ccc1d4b03a22cf"
  },
  "kernelspec": {
   "display_name": "Python [conda env:base] *",
   "language": "python",
   "name": "conda-base-py"
  },
  "language_info": {
   "codemirror_mode": {
    "name": "ipython",
    "version": 3
   },
   "file_extension": ".py",
   "mimetype": "text/x-python",
   "name": "python",
   "nbconvert_exporter": "python",
   "pygments_lexer": "ipython3",
   "version": "3.12.7"
  }
 },
 "nbformat": 4,
 "nbformat_minor": 4
}
