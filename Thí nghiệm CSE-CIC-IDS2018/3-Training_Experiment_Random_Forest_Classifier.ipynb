{
 "cells": [
  {
   "cell_type": "code",
   "execution_count": 4,
   "id": "fcb9ca23-f190-49d8-9820-1d6546869113",
   "metadata": {},
   "outputs": [
    {
     "name": "stdout",
     "output_type": "stream",
     "text": [
      "Thư viện đã được import thành công!\n"
     ]
    }
   ],
   "source": [
    "# Nhập các thư viện cần thiết\n",
    "import pandas as pd\n",
    "import numpy as np\n",
    "from sklearn.model_selection import train_test_split\n",
    "from sklearn.preprocessing import StandardScaler, LabelEncoder\n",
    "from sklearn.metrics import accuracy_score, classification_report\n",
    "import warnings\n",
    "warnings.filterwarnings('ignore')\n",
    "\n",
    "# Đặt random state để đảm bảo kết quả tái lập\n",
    "RANDOM_STATE_SEED = 420\n",
    "\n",
    "# Kiểm tra xem các thư viện đã được import thành công\n",
    "print(\"Thư viện đã được import thành công!\")"
   ]
  },
  {
   "cell_type": "code",
   "execution_count": 6,
   "id": "36a9a028-5098-4ff9-8127-febf248027a7",
   "metadata": {},
   "outputs": [
    {
     "name": "stdout",
     "output_type": "stream",
     "text": [
      "5 dòng đầu của chunk dữ liệu:\n",
      "   Flow Duration  Tot Fwd Pkts  Tot Bwd Pkts  TotLen Fwd Pkts  \\\n",
      "0         141385             9             7              553   \n",
      "1            281             2             1               38   \n",
      "2         279824            11            15             1086   \n",
      "3            132             2             0                0   \n",
      "4         274016             9            13             1285   \n",
      "\n",
      "   TotLen Bwd Pkts  Fwd Pkt Len Max  Fwd Pkt Len Min  Fwd Pkt Len Mean  \\\n",
      "0           3773.0              202                0         61.444444   \n",
      "1              0.0               38                0         19.000000   \n",
      "2          10527.0              385                0         98.727273   \n",
      "3              0.0                0                0          0.000000   \n",
      "4           6141.0              517                0        142.777778   \n",
      "\n",
      "   Fwd Pkt Len Std  Bwd Pkt Len Max  ...  Active Std  Active Max  Active Min  \\\n",
      "0        87.534438             1460  ...         0.0         0.0         0.0   \n",
      "1        26.870058                0  ...         0.0         0.0         0.0   \n",
      "2       129.392497             1460  ...         0.0         0.0         0.0   \n",
      "3         0.000000                0  ...         0.0         0.0         0.0   \n",
      "4       183.887722             1460  ...         0.0         0.0         0.0   \n",
      "\n",
      "   Idle Mean  Idle Std  Idle Max  Idle Min  Protocol_17  Protocol_6  Label  \n",
      "0        0.0       0.0       0.0       0.0        False        True      0  \n",
      "1        0.0       0.0       0.0       0.0        False        True      0  \n",
      "2        0.0       0.0       0.0       0.0        False        True      0  \n",
      "3        0.0       0.0       0.0       0.0        False        True      0  \n",
      "4        0.0       0.0       0.0       0.0        False        True      0  \n",
      "\n",
      "[5 rows x 73 columns]\n",
      "\n",
      "Thông tin chunk dữ liệu:\n",
      "<class 'pandas.core.frame.DataFrame'>\n",
      "RangeIndex: 4772331 entries, 0 to 4772330\n",
      "Data columns (total 73 columns):\n",
      " #   Column             Dtype  \n",
      "---  ------             -----  \n",
      " 0   Flow Duration      int64  \n",
      " 1   Tot Fwd Pkts       int64  \n",
      " 2   Tot Bwd Pkts       int64  \n",
      " 3   TotLen Fwd Pkts    int64  \n",
      " 4   TotLen Bwd Pkts    float64\n",
      " 5   Fwd Pkt Len Max    int64  \n",
      " 6   Fwd Pkt Len Min    int64  \n",
      " 7   Fwd Pkt Len Mean   float64\n",
      " 8   Fwd Pkt Len Std    float64\n",
      " 9   Bwd Pkt Len Max    int64  \n",
      " 10  Bwd Pkt Len Min    int64  \n",
      " 11  Bwd Pkt Len Mean   float64\n",
      " 12  Bwd Pkt Len Std    float64\n",
      " 13  Flow IAT Mean      float64\n",
      " 14  Flow IAT Std       float64\n",
      " 15  Flow IAT Max       float64\n",
      " 16  Flow IAT Min       float64\n",
      " 17  Fwd IAT Tot        float64\n",
      " 18  Fwd IAT Mean       float64\n",
      " 19  Fwd IAT Std        float64\n",
      " 20  Fwd IAT Max        float64\n",
      " 21  Fwd IAT Min        float64\n",
      " 22  Bwd IAT Tot        float64\n",
      " 23  Bwd IAT Mean       float64\n",
      " 24  Bwd IAT Std        float64\n",
      " 25  Bwd IAT Max        float64\n",
      " 26  Bwd IAT Min        float64\n",
      " 27  Fwd Header Len     int64  \n",
      " 28  Bwd Header Len     int64  \n",
      " 29  Fwd Pkts/s         float64\n",
      " 30  Bwd Pkts/s         float64\n",
      " 31  Pkt Len Min        int64  \n",
      " 32  Pkt Len Max        int64  \n",
      " 33  Pkt Len Mean       float64\n",
      " 34  Pkt Len Std        float64\n",
      " 35  Pkt Len Var        float64\n",
      " 36  FIN Flag Cnt       int64  \n",
      " 37  SYN Flag Cnt       int64  \n",
      " 38  RST Flag Cnt       int64  \n",
      " 39  PSH Flag Cnt       int64  \n",
      " 40  ACK Flag Cnt       int64  \n",
      " 41  URG Flag Cnt       int64  \n",
      " 42  CWE Flag Count     int64  \n",
      " 43  ECE Flag Cnt       int64  \n",
      " 44  Down/Up Ratio      int64  \n",
      " 45  Pkt Size Avg       float64\n",
      " 46  Fwd Seg Size Avg   float64\n",
      " 47  Bwd Seg Size Avg   float64\n",
      " 48  Fwd Byts/b Avg     int64  \n",
      " 49  Fwd Pkts/b Avg     int64  \n",
      " 50  Fwd Blk Rate Avg   int64  \n",
      " 51  Bwd Byts/b Avg     int64  \n",
      " 52  Bwd Pkts/b Avg     int64  \n",
      " 53  Bwd Blk Rate Avg   int64  \n",
      " 54  Subflow Fwd Pkts   int64  \n",
      " 55  Subflow Fwd Byts   int64  \n",
      " 56  Subflow Bwd Pkts   int64  \n",
      " 57  Subflow Bwd Byts   int64  \n",
      " 58  Init Fwd Win Byts  int64  \n",
      " 59  Init Bwd Win Byts  int64  \n",
      " 60  Fwd Act Data Pkts  int64  \n",
      " 61  Fwd Seg Size Min   int64  \n",
      " 62  Active Mean        float64\n",
      " 63  Active Std         float64\n",
      " 64  Active Max         float64\n",
      " 65  Active Min         float64\n",
      " 66  Idle Mean          float64\n",
      " 67  Idle Std           float64\n",
      " 68  Idle Max           float64\n",
      " 69  Idle Min           float64\n",
      " 70  Protocol_17        bool   \n",
      " 71  Protocol_6         bool   \n",
      " 72  Label              int64  \n",
      "dtypes: bool(2), float64(35), int64(36)\n",
      "memory usage: 2.5 GB\n",
      "None\n",
      "\n",
      "Phân bố nhãn trong chunk:\n",
      "Label\n",
      "0    4135393\n",
      "1     636938\n",
      "Name: count, dtype: int64\n"
     ]
    }
   ],
   "source": [
    "# Đọc file CSV theo chunks\n",
    "chunk_size = 10000000  # Đọc 100,000 dòng mỗi lần\n",
    "chunks = pd.read_csv('Dataset/CSE-CIC-IDS2018/processed_cse_cic_ids2018_malicious_benign.csv', chunksize=chunk_size)\n",
    "\n",
    "# Lấy chunk đầu tiên để kiểm tra\n",
    "data_chunk = next(chunks)\n",
    "\n",
    "# Kiểm tra 5 dòng đầu của chunk\n",
    "print(\"5 dòng đầu của chunk dữ liệu:\")\n",
    "print(data_chunk.head())\n",
    "\n",
    "# Kiểm tra thông tin chunk (kiểu dữ liệu, giá trị null)\n",
    "print(\"\\nThông tin chunk dữ liệu:\")\n",
    "print(data_chunk.info())\n",
    "\n",
    "# Kiểm tra phân bố nhãn (Label) trong chunk\n",
    "print(\"\\nPhân bố nhãn trong chunk:\")\n",
    "print(data_chunk['Label'].value_counts())"
   ]
  },
  {
   "cell_type": "code",
   "execution_count": 8,
   "id": "069bcd11-5f20-4b27-aff1-19a4efd008e2",
   "metadata": {},
   "outputs": [
    {
     "name": "stdout",
     "output_type": "stream",
     "text": [
      "Kích thước tập huấn luyện: (3817864, 72) (3817864,)\n",
      "Kích thước tập kiểm tra: (954467, 72) (954467,)\n",
      "\n",
      "Phân bố nhãn trong tập huấn luyện:\n",
      "Label\n",
      "0    3308058\n",
      "1     509806\n",
      "Name: count, dtype: int64\n"
     ]
    }
   ],
   "source": [
    "# Tách đặc trưng (X) và nhãn (y)\n",
    "X = data_chunk.drop('Label', axis=1)\n",
    "y = data_chunk['Label']\n",
    "\n",
    "# Chuẩn hóa dữ liệu bằng StandardScaler\n",
    "scaler = StandardScaler()\n",
    "X_scaled = scaler.fit_transform(X)\n",
    "\n",
    "# Tách tập huấn luyện và kiểm tra\n",
    "X_train, X_test, y_train, y_test = train_test_split(\n",
    "    X_scaled, y, test_size=0.2, random_state=420\n",
    ")\n",
    "\n",
    "# Kiểm tra kích thước các tập\n",
    "print(\"Kích thước tập huấn luyện:\", X_train.shape, y_train.shape)\n",
    "print(\"Kích thước tập kiểm tra:\", X_test.shape, y_test.shape)\n",
    "\n",
    "# Kiểm tra phân bố nhãn trong tập huấn luyện\n",
    "print(\"\\nPhân bố nhãn trong tập huấn luyện:\")\n",
    "print(pd.Series(y_train).value_counts())"
   ]
  },
  {
   "cell_type": "code",
   "execution_count": 24,
   "id": "905cdc54-ee86-40ac-8e35-d2ee81785045",
   "metadata": {},
   "outputs": [
    {
     "name": "stdout",
     "output_type": "stream",
     "text": [
      "Độ chính xác trên tập kiểm tra: 0.9993388980446679\n",
      "\n",
      "Báo cáo phân loại:\n",
      "               precision    recall  f1-score   support\n",
      "\n",
      "   Benign (0)       1.00      1.00      1.00    827335\n",
      "Malicious (1)       1.00      1.00      1.00    127132\n",
      "\n",
      "     accuracy                           1.00    954467\n",
      "    macro avg       1.00      1.00      1.00    954467\n",
      " weighted avg       1.00      1.00      1.00    954467\n",
      "\n"
     ]
    }
   ],
   "source": [
    "from sklearn.ensemble import RandomForestClassifier\n",
    "\n",
    "# Khởi tạo mô hình Random Forest\n",
    "model = RandomForestClassifier(\n",
    "    n_estimators=100,\n",
    "    random_state=420,\n",
    "    class_weight='balanced',\n",
    "    n_jobs=-1\n",
    ")\n",
    "\n",
    "# Huấn luyện mô hình\n",
    "model.fit(X_train, y_train)\n",
    "\n",
    "# Dự đoán trên tập kiểm tra\n",
    "y_pred = model.predict(X_test)\n",
    "\n",
    "# Đánh giá mô hình\n",
    "print(\"Độ chính xác trên tập kiểm tra:\", accuracy_score(y_test, y_pred))\n",
    "print(\"\\nBáo cáo phân loại:\")\n",
    "print(classification_report(y_test, y_pred, target_names=['Benign (0)', 'Malicious (1)']))"
   ]
  },
  {
   "cell_type": "code",
   "execution_count": 26,
   "id": "a9f6640d-d75d-4c8a-a075-37965f737988",
   "metadata": {},
   "outputs": [
    {
     "data": {
      "image/png": "[encoded data removed]",
      "text/plain": [
       "<Figure size 600x500 with 2 Axes>"
      ]
     },
     "metadata": {},
     "output_type": "display_data"
    }
   ],
   "source": [
    "import seaborn as sns\n",
    "import matplotlib.pyplot as plt\n",
    "from sklearn.metrics import confusion_matrix, precision_recall_fscore_support\n",
    "\n",
    "# Tính ma trận nhầm lẫn\n",
    "cm = confusion_matrix(y_test, y_pred)\n",
    "\n",
    "# Tính các chỉ số đánh giá\n",
    "accuracy = accuracy_score(y_test, y_pred)\n",
    "precision, recall, f1, _ = precision_recall_fscore_support(y_test, y_pred, average='macro')\n",
    "\n",
    "# Vẽ ma trận nhầm lẫn bằng heatmap\n",
    "plt.figure(figsize=(6, 5))\n",
    "sns.heatmap(cm, annot=True, fmt='d', cmap='Blues', cbar=True, \n",
    "            xticklabels=['Benign (0)', 'Malicious (1)'], \n",
    "            yticklabels=['Benign (0)', 'Malicious (1)'])\n",
    "\n",
    "# Thêm nhãn trục\n",
    "plt.xlabel('Predicted Label')\n",
    "plt.ylabel('True Label')\n",
    "\n",
    "# Hiển thị biểu đồ\n",
    "plt.tight_layout()\n",
    "plt.show()"
   ]
  },
  {
   "cell_type": "markdown",
   "id": "bf6c4ec3-0e91-401f-bff9-087a45f8bc1c",
   "metadata": {},
   "source": [
    "#### Kiểm tra xem có bị Overfitting"
   ]
  },
  {
   "cell_type": "code",
   "execution_count": 33,
   "id": "0a60ffec-411f-4adb-87d0-4c7509121e53",
   "metadata": {},
   "outputs": [
    {
     "name": "stdout",
     "output_type": "stream",
     "text": [
      "Độ chính xác trên chunk mới: 0.9995765\n",
      "\n",
      "Báo cáo phân loại trên chunk mới:\n",
      "               precision    recall  f1-score   support\n",
      "\n",
      "   Benign (0)       1.00      1.00      1.00   1854283\n",
      "Malicious (1)       1.00      1.00      1.00    145717\n",
      "\n",
      "     accuracy                           1.00   2000000\n",
      "    macro avg       1.00      1.00      1.00   2000000\n",
      " weighted avg       1.00      1.00      1.00   2000000\n",
      "\n"
     ]
    }
   ],
   "source": [
    "import seaborn as sns\n",
    "import matplotlib.pyplot as plt\n",
    "from sklearn.metrics import confusion_matrix, precision_recall_fscore_support\n",
    "\n",
    "# Đọc chunk mới từ file (bỏ qua chunk đầu tiên đã dùng)\n",
    "chunk_size = 2000000\n",
    "chunks = pd.read_csv('Dataset/CSE-CIC-IDS2018/processed_cse_cic_ids2018_malicious_benign.csv', \n",
    "                     chunksize=chunk_size, iterator=True)\n",
    "\n",
    "# Bỏ qua chunk đầu tiên (đã dùng để huấn luyện)\n",
    "next(chunks)  # Bỏ chunk đầu tiên\n",
    "\n",
    "# Lấy chunk thứ hai\n",
    "new_chunk = next(chunks)\n",
    "\n",
    "# Tách đặc trưng và nhãn\n",
    "X_new = new_chunk.drop('Label', axis=1)\n",
    "y_new = new_chunk['Label']\n",
    "\n",
    "# Chuẩn hóa dữ liệu mới bằng scaler đã fit trên tập huấn luyện\n",
    "X_new_scaled = scaler.transform(X_new)  # Dùng scaler đã fit trước đó\n",
    "\n",
    "# Dự đoán trên dữ liệu mới\n",
    "y_new_pred = model.predict(X_new_scaled)\n",
    "\n",
    "# Đánh giá hiệu suất\n",
    "accuracy_new = accuracy_score(y_new, y_new_pred)\n",
    "precision_new, recall_new, f1_new, _ = precision_recall_fscore_support(y_new, y_new_pred, average='macro')\n",
    "\n",
    "# In kết quả\n",
    "print(\"Độ chính xác trên chunk mới:\", accuracy_new)\n",
    "print(\"\\nBáo cáo phân loại trên chunk mới:\")\n",
    "print(classification_report(y_new, y_new_pred, target_names=['Benign (0)', 'Malicious (1)']))"
   ]
  },
  {
   "cell_type": "code",
   "execution_count": 35,
   "id": "490194cc-4491-419f-8d68-de518bf8388b",
   "metadata": {},
   "outputs": [
    {
     "data": {
      "image/png": "[encoded data removed]",
      "text/plain": [
       "<Figure size 600x500 with 2 Axes>"
      ]
     },
     "metadata": {},
     "output_type": "display_data"
    }
   ],
   "source": [
    "# Tính và vẽ ma trận nhầm lẫn\n",
    "cm_new = confusion_matrix(y_new, y_new_pred)\n",
    "plt.figure(figsize=(6, 5))\n",
    "sns.heatmap(cm_new, annot=True, fmt='d', cmap='Blues', cbar=True, \n",
    "            xticklabels=['Benign (0)', 'Malicious (1)'], \n",
    "            yticklabels=['Benign (0)', 'Malicious (1)'])\n",
    "\n",
    "plt.xlabel('Predicted Label')\n",
    "plt.ylabel('True Label')\n",
    "plt.tight_layout()\n",
    "plt.show()"
   ]
  },
  {
   "cell_type": "code",
   "execution_count": 37,
   "id": "755f1078-792d-4103-88e4-5abb09f1a226",
   "metadata": {},
   "outputs": [
    {
     "name": "stdout",
     "output_type": "stream",
     "text": [
      "Mô hình đã được lưu vào 'trained_models/random-forest-classifier_model.pkl'\n"
     ]
    }
   ],
   "source": [
    "import joblib\n",
    "import os\n",
    "\n",
    "# Đường dẫn để lưu mô hình (thay đổi theo ý bạn)\n",
    "save_path = 'trained_models/random-forest-classifier_model.pkl'\n",
    "\n",
    "# Tạo thư mục nếu chưa tồn tại\n",
    "os.makedirs(os.path.dirname(save_path), exist_ok=True)\n",
    "\n",
    "# Lưu mô hình vào đường dẫn\n",
    "joblib.dump(model, save_path)\n",
    "print(f\"Mô hình đã được lưu vào '{save_path}'\")"
   ]
  },
  {
   "cell_type": "code",
   "execution_count": 39,
   "id": "06ccb4cf-e1af-40f6-9abb-7c9c0b3a0cb2",
   "metadata": {},
   "outputs": [
    {
     "name": "stdout",
     "output_type": "stream",
     "text": [
      "Scaler đã được lưu vào 'trained_models/rf_scaler.pkl'\n"
     ]
    }
   ],
   "source": [
    "import joblib\n",
    "import os\n",
    "\n",
    "scaler_path = 'trained_models/rf_scaler.pkl'\n",
    "os.makedirs(os.path.dirname(scaler_path), exist_ok=True)\n",
    "joblib.dump(scaler, scaler_path)\n",
    "print(f\"Scaler đã được lưu vào '{scaler_path}'\")"
   ]
  },
  {
   "cell_type": "code",
   "execution_count": null,
   "id": "212ab970-d435-496e-a670-3a4f2a14d6e8",
   "metadata": {},
   "outputs": [],
   "source": []
  }
 ],
 "metadata": {
  "kernelspec": {
   "display_name": "Python [conda env:base] *",
   "language": "python",
   "name": "conda-base-py"
  },
  "language_info": {
   "codemirror_mode": {
    "name": "ipython",
    "version": 3
   },
   "file_extension": ".py",
   "mimetype": "text/x-python",
   "name": "python",
   "nbconvert_exporter": "python",
   "pygments_lexer": "ipython3",
   "version": "3.12.7"
  }
 },
 "nbformat": 4,
 "nbformat_minor": 5
}
