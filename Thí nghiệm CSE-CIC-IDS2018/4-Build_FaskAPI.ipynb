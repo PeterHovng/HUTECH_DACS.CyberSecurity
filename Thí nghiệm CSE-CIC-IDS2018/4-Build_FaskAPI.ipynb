{
 "cells": [
  {
   "cell_type": "code",
   "execution_count": 5,
   "id": "f972fc99-bb21-4020-9524-19adb84852e2",
   "metadata": {},
   "outputs": [
    {
     "name": "stdout",
     "output_type": "stream",
     "text": [
      "Requirement already satisfied: fastapi in c:\\users\\garan\\anaconda3\\lib\\site-packages (0.115.0)Note: you may need to restart the kernel to use updated packages.\n",
      "\n",
      "Requirement already satisfied: uvicorn in c:\\users\\garan\\anaconda3\\lib\\site-packages (0.30.6)\n",
      "Requirement already satisfied: joblib in c:\\users\\garan\\anaconda3\\lib\\site-packages (1.4.2)\n",
      "Requirement already satisfied: numpy in c:\\users\\garan\\anaconda3\\lib\\site-packages (1.26.4)\n",
      "Requirement already satisfied: pydantic in c:\\users\\garan\\anaconda3\\lib\\site-packages (2.9.2)\n",
      "Requirement already satisfied: nest_asyncio in c:\\users\\garan\\anaconda3\\lib\\site-packages (1.6.0)\n",
      "Requirement already satisfied: starlette<0.39.0,>=0.37.2 in c:\\users\\garan\\anaconda3\\lib\\site-packages (from fastapi) (0.38.6)\n",
      "Requirement already satisfied: typing-extensions>=4.8.0 in c:\\users\\garan\\anaconda3\\lib\\site-packages (from fastapi) (4.11.0)\n",
      "Requirement already satisfied: click>=7.0 in c:\\users\\garan\\anaconda3\\lib\\site-packages (from uvicorn) (8.1.7)\n",
      "Requirement already satisfied: h11>=0.8 in c:\\users\\garan\\anaconda3\\lib\\site-packages (from uvicorn) (0.14.0)\n",
      "Requirement already satisfied: annotated-types>=0.6.0 in c:\\users\\garan\\anaconda3\\lib\\site-packages (from pydantic) (0.6.0)\n",
      "Requirement already satisfied: pydantic-core==2.23.4 in c:\\users\\garan\\anaconda3\\lib\\site-packages (from pydantic) (2.23.4)\n",
      "Requirement already satisfied: colorama in c:\\users\\garan\\anaconda3\\lib\\site-packages (from click>=7.0->uvicorn) (0.4.6)\n",
      "Requirement already satisfied: anyio<5,>=3.4.0 in c:\\users\\garan\\anaconda3\\lib\\site-packages (from starlette<0.39.0,>=0.37.2->fastapi) (4.2.0)\n",
      "Requirement already satisfied: idna>=2.8 in c:\\users\\garan\\anaconda3\\lib\\site-packages (from anyio<5,>=3.4.0->starlette<0.39.0,>=0.37.2->fastapi) (3.7)\n",
      "Requirement already satisfied: sniffio>=1.1 in c:\\users\\garan\\anaconda3\\lib\\site-packages (from anyio<5,>=3.4.0->starlette<0.39.0,>=0.37.2->fastapi) (1.3.0)\n"
     ]
    },
    {
     "name": "stderr",
     "output_type": "stream",
     "text": [
      "\n",
      "[notice] A new release of pip is available: 25.0.1 -> 25.1.1\n",
      "[notice] To update, run: python.exe -m pip install --upgrade pip\n"
     ]
    }
   ],
   "source": [
    "pip install fastapi uvicorn joblib numpy pydantic nest_asyncio"
   ]
  },
  {
   "cell_type": "code",
   "execution_count": 7,
   "id": "60691d8a-ccfa-4a06-b4ad-c2ca6109307b",
   "metadata": {},
   "outputs": [],
   "source": [
    "import pandas as pd\n",
    "import joblib\n",
    "import numpy as np\n",
    "from fastapi import FastAPI, HTTPException\n",
    "from pydantic import BaseModel\n",
    "from typing import List\n",
    "import uvicorn\n",
    "import nest_asyncio\n",
    "import threading\n",
    "nest_asyncio.apply()"
   ]
  },
  {
   "cell_type": "markdown",
   "id": "1ba9d9c8-5148-4752-b807-9d5fc01d29f8",
   "metadata": {},
   "source": [
    "### Bước 1: Chuẩn bị và kiểm tra dữ liệu đầu vào từ dataset\n",
    "\n",
    "\"Chuẩn bị\": Đoạn mã đọc file CSV, lấy một dòng dữ liệu (dòng 100,000), và xử lý dữ liệu (loại bỏ cột Label, chuyển thành danh sách, xử lý NaN).\n",
    "\n",
    "\"Kiểm tra\": Mã in ra các thông tin để kiểm tra dữ liệu (số lượng đặc trưng, có NaN không, nhãn thực tế).\n",
    "\n",
    "\"Dữ liệu đầu vào từ dataset\": Dữ liệu được lấy từ file CSV (processed_cse_cic_ids2018_malicious_benign.csv) và mục đích là chuẩn bị đầu vào cho API dự đoán."
   ]
  },
  {
   "cell_type": "code",
   "execution_count": 10,
   "id": "5ab9f5b3-ab48-4a3a-939d-9d8e687a533b",
   "metadata": {},
   "outputs": [
    {
     "name": "stdout",
     "output_type": "stream",
     "text": [
      "Số lượng đặc trưng: 72\n",
      "Dữ liệu đặc trưng: [5282937, 5, 3, 935, 370.0, 935, 0, 187.0, 418.1447118, 370, 0, 123.3333333, 213.6195996, 754705.2857, 1975318.312, 5234232.0, 2.0, 5282937.0, 1320734.25, 2609028.472, 5234239.0, 27.0, 23291.0, 11645.5, 15962.93559, 22933.0, 358.0, 168, 104, 0.946443238, 0.567865943, 0, 935, 145.0, 320.5269099, 102737.5, 0, 0, 0, 0, 1, 0, 0, 0, 0, 163.125, 187.0, 123.3333333, 0, 0, 0, 0, 0, 0, 5, 935, 3, 370, 219, 211, 1, 32, 0.0, 0.0, 0.0, 0.0, 5234232.0, 0.0, 5234232.0, 5234232.0, False, True]\n",
      "Có giá trị NaN hoặc None không: False\n",
      "Nhãn thực tế: Benign\n",
      "Dữ liệu đặc trưng sau khi xử lý: [5282937.0, 5.0, 3.0, 935.0, 370.0, 935.0, 0.0, 187.0, 418.1447118, 370.0, 0.0, 123.3333333, 213.6195996, 754705.2857, 1975318.312, 5234232.0, 2.0, 5282937.0, 1320734.25, 2609028.472, 5234239.0, 27.0, 23291.0, 11645.5, 15962.93559, 22933.0, 358.0, 168.0, 104.0, 0.946443238, 0.567865943, 0.0, 935.0, 145.0, 320.5269099, 102737.5, 0.0, 0.0, 0.0, 0.0, 1.0, 0.0, 0.0, 0.0, 0.0, 163.125, 187.0, 123.3333333, 0.0, 0.0, 0.0, 0.0, 0.0, 0.0, 5.0, 935.0, 3.0, 370.0, 219.0, 211.0, 1.0, 32.0, 0.0, 0.0, 0.0, 0.0, 5234232.0, 0.0, 5234232.0, 5234232.0, 0.0, 1.0]\n",
      "Có giá trị NaN hoặc None sau khi xử lý không: False\n"
     ]
    }
   ],
   "source": [
    "# Đọc file dữ liệu\n",
    "try:\n",
    "    data = pd.read_csv('Dataset_To_Train_Models/processed_cse_cic_ids2018_malicious_benign.csv')\n",
    "except FileNotFoundError:\n",
    "    print(\"Lỗi: File CSV không tồn tại. Vui lòng kiểm tra đường dẫn 'Dataset_To_Train_Models/processed_cse_cic_ids2018_malicious_benign.csv'.\")\n",
    "    raise\n",
    "\n",
    "# Lấy dòng thứ [tùy chọn]\n",
    "new_data_row = data.iloc[800000]\n",
    "\n",
    "# Loại bỏ cột Label và chuyển thành danh sách\n",
    "features = new_data_row.drop('Label').tolist()\n",
    "\n",
    "# Kiểm tra dữ liệu\n",
    "print(\"Số lượng đặc trưng:\", len(features))\n",
    "print(\"Dữ liệu đặc trưng:\", features)\n",
    "print(\"Có giá trị NaN hoặc None không:\", any(pd.isna(x) for x in features))\n",
    "print(\"Nhãn thực tế:\", \"Benign\" if new_data_row['Label'] == 0 else \"Malicious\")\n",
    "\n",
    "# Xử lý NaN hoặc None nếu có\n",
    "#features = [0 if pd.isna(x) else float(x) for x in features]\n",
    "#features = [int(x) if isinstance(x, bool) else x for x in features]\n",
    "features = [0.0 if pd.isna(x) else float(x) for x in features]\n",
    "# Kiểm tra lại sau khi xử lý\n",
    "print(\"Dữ liệu đặc trưng sau khi xử lý:\", features)\n",
    "print(\"Có giá trị NaN hoặc None sau khi xử lý không:\", any(pd.isna(x) for x in features))"
   ]
  },
  {
   "cell_type": "markdown",
   "id": "772e10b4-fd8e-4ae2-bf67-0b29730ee64a",
   "metadata": {},
   "source": [
    "### Bước 2: Thiết lập và triển khai API FastAPI cho dự đoán\n",
    "\n",
    "\"Thiết lập\": Đoạn mã khởi tạo FastAPI, tải mô hình và scaler, định nghĩa cấu trúc dữ liệu đầu vào (InputData), và thiết lập các endpoint (/ và /predict).\n",
    "\n",
    "\"Triển khai\": Mã chạy API bằng Uvicorn trên http://127.0.0.1:8000.\n",
    "\n",
    "\"API FastAPI\": Đây là trọng tâm của đoạn mã, sử dụng FastAPI để tạo API.\n",
    "\n",
    "\"Cho dự đoán\": Mục đích chính của API là dự đoán (/predict) dựa trên mô hình Random Forest."
   ]
  },
  {
   "cell_type": "code",
   "execution_count": 12,
   "id": "2212e86a-8d4d-4459-a0cf-92e9f06539ca",
   "metadata": {},
   "outputs": [
    {
     "name": "stdout",
     "output_type": "stream",
     "text": [
      "Mô hình và scaler đã được tải thành công.\n",
      "Số đặc trưng mong đợi: 72\n"
     ]
    }
   ],
   "source": [
    "# Áp dụng nest_asyncio để chạy trong Jupyter Notebook\n",
    "nest_asyncio.apply()\n",
    "\n",
    "# Khởi tạo FastAPI\n",
    "app = FastAPI(title=\"Random Forest Prediction API\")\n",
    "\n",
    "# Tải mô hình và scaler\n",
    "try:\n",
    "    model = joblib.load('trained_models/random-forest-classifier_model.pkl')\n",
    "    scaler = joblib.load('trained_models/rf_scaler.pkl')\n",
    "    print(\"Mô hình và scaler đã được tải thành công.\")\n",
    "    print(\"Số đặc trưng mong đợi:\", scaler.n_features_in_)\n",
    "except FileNotFoundError as e:\n",
    "    print(f\"Lỗi: {e}. Vui lòng kiểm tra file mô hình và scaler trong thư mục 'trained_models'.\")\n",
    "    raise\n",
    "\n",
    "# Định nghĩa cấu trúc dữ liệu đầu vào\n",
    "class InputData(BaseModel):\n",
    "    features: List[float]\n",
    "\n",
    "class PredictionResponse(BaseModel):\n",
    "    prediction: str\n",
    "    probability: dict\n",
    "\n",
    "# Endpoint kiểm tra API\n",
    "@app.get(\"/\")\n",
    "async def root():\n",
    "    return {\"message\": \"Welcome to the Random Forest Prediction API\"}\n",
    "\n",
    "# Endpoint dự đoán\n",
    "@app.post(\n",
    "    \"/predict\",\n",
    "    response_model=PredictionResponse,\n",
    "    summary=\"Dự đoán loại truy cập Web\",\n",
    "    description=\"Trả về nhãn 'Benign' hoặc 'Malicious' cùng với xác suất.\"\n",
    ")\n",
    "async def predict(data: InputData):\n",
    "    try:\n",
    "        features = np.array(data.features).reshape(1, -1)\n",
    "        expected_features = scaler.n_features_in_\n",
    "        if features.shape[1] != expected_features:\n",
    "            raise HTTPException(\n",
    "                status_code=400,\n",
    "                detail=f\"Số lượng đặc trưng không đúng. Mong đợi {expected_features}, nhận được {features.shape[1]}.\"\n",
    "            )\n",
    "        features_scaled = scaler.transform(features)\n",
    "        prediction = model.predict(features_scaled)[0]\n",
    "        probability = model.predict_proba(features_scaled)[0].tolist()\n",
    "        label = \"Benign\" if prediction == 0 else \"Malicious\"\n",
    "        return {\n",
    "            \"prediction\": label,\n",
    "            \"probability\": {\n",
    "                \"Benign\": probability[0],\n",
    "                \"Malicious\": probability[1]\n",
    "            }\n",
    "        }\n",
    "    except Exception as e:\n",
    "        raise HTTPException(status_code=500, detail=f\"Lỗi trong quá trình dự đoán: {str(e)}\")"
   ]
  },
  {
   "cell_type": "markdown",
   "id": "49fc75c0-a2e7-4559-a504-bdbb2f429798",
   "metadata": {},
   "source": [
    "### Bước 3: Chạy FaskAPI"
   ]
  },
  {
   "cell_type": "code",
   "execution_count": 23,
   "id": "c1590590-06a0-4b37-a55e-1a744592211f",
   "metadata": {},
   "outputs": [
    {
     "name": "stderr",
     "output_type": "stream",
     "text": [
      "INFO:     Started server process [11776]\n",
      "INFO:     Waiting for application startup.\n",
      "INFO:     Application startup complete.\n",
      "ERROR:    [Errno 10048] error while attempting to bind on address ('127.0.0.1', 8000): [winerror 10048] only one usage of each socket address (protocol/network address/port) is normally permitted\n",
      "INFO:     Waiting for application shutdown.\n",
      "INFO:     Application shutdown complete.\n"
     ]
    }
   ],
   "source": [
    "def run():\n",
    "    uvicorn.run(app, host=\"127.0.0.1\", port=8000)\n",
    "\n",
    "thread = threading.Thread(target=run)\n",
    "thread.start()"
   ]
  },
  {
   "cell_type": "markdown",
   "id": "85ce8f68-8ff7-4410-a530-87c4893e0eb1",
   "metadata": {},
   "source": [
    "### Dùng trình duyệt để xem tài liệu API và thử nghiệm:\n",
    "\n",
    "Truy cập: http://127.0.0.1:8000/docs\n",
    "\n",
    "Bạn sẽ thấy giao diện Swagger UI với danh sách các endpoint của API:\n",
    "\n",
    "/ (GET): Endpoint chào mừng.\n",
    "\n",
    "/predict (POST): Endpoint dự đoán.\n",
    "\n",
    "Tìm endpoint /predict, nhấn \"Try it out\".\n",
    "\n",
    "Dán dữ liệu JSON vào:"
   ]
  },
  {
   "cell_type": "code",
   "execution_count": null,
   "id": "098982a9-1e57-4806-8ab4-fe19d7b8e2a4",
   "metadata": {},
   "outputs": [],
   "source": [
    "Benign:\n",
    "{\n",
    "  \"features\": [5282937.0, 5.0, 3.0, 935.0, 370.0, 935.0, 0.0, 187.0, 418.1447118, 370.0, 0.0, 123.3333333, 213.6195996, 754705.2857, 1975318.312, 5234232.0, 2.0, 5282937.0, 1320734.25, 2609028.472, 5234239.0, 27.0, 23291.0, 11645.5, 15962.93559, 22933.0, 358.0, 168.0, 104.0, 0.946443238, 0.567865943, 0.0, 935.0, 145.0, 320.5269099, 102737.5, 0.0, 0.0, 0.0, 0.0, 1.0, 0.0, 0.0, 0.0, 0.0, 163.125, 187.0, 123.3333333, 0.0, 0.0, 0.0, 0.0, 0.0, 0.0, 5.0, 935.0, 3.0, 370.0, 219.0, 211.0, 1.0, 32.0, 0.0, 0.0, 0.0, 0.0, 5234232.0, 0.0, 5234232.0, 5234232.0, 0.0, 1.0]\n",
    "}\n",
    "\n",
    "Malicious:\n",
    "{\n",
    "  \"features\": [19181.0, 2.0, 0.0, 0.0, 0.0, 0.0, 0.0, 0.0, 0.0, 0.0, 0.0, 0.0, 0.0, 19181.0, 0.0, 19181.0, 19181.0, 19181.0, 19181.0, 0.0, 19181.0, 19181.0, 0.0, 0.0, 0.0, 0.0, 0.0, 64.0, 0.0, 104.2698504, 0.0, 0.0, 0.0, 0.0, 0.0, 0.0, 0.0, 0.0, 0.0, 0.0, 1.0, 0.0, 0.0, 0.0, 0.0, 0.0, 0.0, 0.0, 0.0, 0.0, 0.0, 0.0, 0.0, 0.0, 2.0, 0.0, 0.0, 0.0, 225.0, -1.0, 0.0, 32.0, 0.0, 0.0, 0.0, 0.0, 0.0, 0.0, 0.0, 0.0, 0.0, 1.0]\n",
    "}\n"
   ]
  },
  {
   "cell_type": "markdown",
   "id": "b28439d6-7070-48b3-ad59-0bfbc505c073",
   "metadata": {},
   "source": [
    "### Đánh giá\n",
    "\n",
    "Thành công:\n",
    "Endpoint /predict đã hoạt động đúng với yêu cầu POST đầu tiên (Code 200).\n",
    "Dự đoán chính xác: Benign, khớp với nhãn thực tế.\n",
    "Xác suất rất cao (99.98% cho Benign), cho thấy mô hình hoạt động tốt với dữ liệu này."
   ]
  },
  {
   "cell_type": "markdown",
   "id": "d3dded6a-1880-4abb-b2a8-5b6e512fa1a8",
   "metadata": {},
   "source": [
    "### Kết quả lỗi (Code 422)\n",
    "Kết quả trả về (Code 422 - Validation Error):\n",
    "\n",
    "{\n",
    "  \n",
    "  \"detail\": [\n",
    "   \n",
    "    {\n",
    "      \n",
    "      \"loc\": [\"body\", 0],\n",
    "      \n",
    "      \"msg\": \"value is not a valid dict\",\n",
    "      \n",
    "      \"type\": \"type_error.dict\"\n",
    "    \n",
    "    }\n",
    "  \n",
    "  ]\n",
    "\n",
    "}\n",
    "\n",
    "\n",
    "Lỗi 422: Lỗi này không ảnh hưởng đến kết quả chính, chỉ xảy ra khi bạn thử gửi dữ liệu không đúng định dạng. Để tránh lỗi này, luôn đảm bảo dữ liệu gửi đi đúng cấu trúc {\"features\": [danh_sách_72_số]}."
   ]
  },
  {
   "cell_type": "markdown",
   "id": "dde756e0-e3f2-4469-befd-f939b579e861",
   "metadata": {},
   "source": [
    "### Kiểm tra số dòng"
   ]
  },
  {
   "cell_type": "code",
   "execution_count": 17,
   "id": "9ee383ff-c0f9-4212-a36c-e3bf90966ffc",
   "metadata": {
    "scrolled": true
   },
   "outputs": [
    {
     "name": "stdout",
     "output_type": "stream",
     "text": [
      "Tổng số dòng trong tập dữ liệu: 4772331\n",
      "<class 'pandas.core.frame.DataFrame'>\n",
      "RangeIndex: 4772331 entries, 0 to 4772330\n",
      "Data columns (total 73 columns):\n",
      " #   Column             Dtype  \n",
      "---  ------             -----  \n",
      " 0   Flow Duration      int64  \n",
      " 1   Tot Fwd Pkts       int64  \n",
      " 2   Tot Bwd Pkts       int64  \n",
      " 3   TotLen Fwd Pkts    int64  \n",
      " 4   TotLen Bwd Pkts    float64\n",
      " 5   Fwd Pkt Len Max    int64  \n",
      " 6   Fwd Pkt Len Min    int64  \n",
      " 7   Fwd Pkt Len Mean   float64\n",
      " 8   Fwd Pkt Len Std    float64\n",
      " 9   Bwd Pkt Len Max    int64  \n",
      " 10  Bwd Pkt Len Min    int64  \n",
      " 11  Bwd Pkt Len Mean   float64\n",
      " 12  Bwd Pkt Len Std    float64\n",
      " 13  Flow IAT Mean      float64\n",
      " 14  Flow IAT Std       float64\n",
      " 15  Flow IAT Max       float64\n",
      " 16  Flow IAT Min       float64\n",
      " 17  Fwd IAT Tot        float64\n",
      " 18  Fwd IAT Mean       float64\n",
      " 19  Fwd IAT Std        float64\n",
      " 20  Fwd IAT Max        float64\n",
      " 21  Fwd IAT Min        float64\n",
      " 22  Bwd IAT Tot        float64\n",
      " 23  Bwd IAT Mean       float64\n",
      " 24  Bwd IAT Std        float64\n",
      " 25  Bwd IAT Max        float64\n",
      " 26  Bwd IAT Min        float64\n",
      " 27  Fwd Header Len     int64  \n",
      " 28  Bwd Header Len     int64  \n",
      " 29  Fwd Pkts/s         float64\n",
      " 30  Bwd Pkts/s         float64\n",
      " 31  Pkt Len Min        int64  \n",
      " 32  Pkt Len Max        int64  \n",
      " 33  Pkt Len Mean       float64\n",
      " 34  Pkt Len Std        float64\n",
      " 35  Pkt Len Var        float64\n",
      " 36  FIN Flag Cnt       int64  \n",
      " 37  SYN Flag Cnt       int64  \n",
      " 38  RST Flag Cnt       int64  \n",
      " 39  PSH Flag Cnt       int64  \n",
      " 40  ACK Flag Cnt       int64  \n",
      " 41  URG Flag Cnt       int64  \n",
      " 42  CWE Flag Count     int64  \n",
      " 43  ECE Flag Cnt       int64  \n",
      " 44  Down/Up Ratio      int64  \n",
      " 45  Pkt Size Avg       float64\n",
      " 46  Fwd Seg Size Avg   float64\n",
      " 47  Bwd Seg Size Avg   float64\n",
      " 48  Fwd Byts/b Avg     int64  \n",
      " 49  Fwd Pkts/b Avg     int64  \n",
      " 50  Fwd Blk Rate Avg   int64  \n",
      " 51  Bwd Byts/b Avg     int64  \n",
      " 52  Bwd Pkts/b Avg     int64  \n",
      " 53  Bwd Blk Rate Avg   int64  \n",
      " 54  Subflow Fwd Pkts   int64  \n",
      " 55  Subflow Fwd Byts   int64  \n",
      " 56  Subflow Bwd Pkts   int64  \n",
      " 57  Subflow Bwd Byts   int64  \n",
      " 58  Init Fwd Win Byts  int64  \n",
      " 59  Init Bwd Win Byts  int64  \n",
      " 60  Fwd Act Data Pkts  int64  \n",
      " 61  Fwd Seg Size Min   int64  \n",
      " 62  Active Mean        float64\n",
      " 63  Active Std         float64\n",
      " 64  Active Max         float64\n",
      " 65  Active Min         float64\n",
      " 66  Idle Mean          float64\n",
      " 67  Idle Std           float64\n",
      " 68  Idle Max           float64\n",
      " 69  Idle Min           float64\n",
      " 70  Protocol_17        bool   \n",
      " 71  Protocol_6         bool   \n",
      " 72  Label              int64  \n",
      "dtypes: bool(2), float64(35), int64(36)\n",
      "memory usage: 2.5 GB\n"
     ]
    }
   ],
   "source": [
    "# Đọc file dữ liệu (thay 'your_dataset.csv' bằng tên file của bạn)\n",
    "df = pd.read_csv('Dataset_To_Train_Models/processed_cse_cic_ids2018_malicious_benign.csv')\n",
    "\n",
    "# Kiểm tra tổng số dòng\n",
    "total_rows = len(df)\n",
    "print(f\"Tổng số dòng trong tập dữ liệu: {total_rows}\")\n",
    "\n",
    "# (Tùy chọn) Xem thông tin tổng quan về DataFrame\n",
    "df.info()"
   ]
  },
  {
   "cell_type": "code",
   "execution_count": 27,
   "id": "f916a789-cac3-4230-be39-ac2bb52a6f2d",
   "metadata": {},
   "outputs": [
    {
     "name": "stdout",
     "output_type": "stream",
     "text": [
      "Dữ liệu tại dòng 800000:\n",
      "Flow Duration        5282937\n",
      "Tot Fwd Pkts               5\n",
      "Tot Bwd Pkts               3\n",
      "TotLen Fwd Pkts          935\n",
      "TotLen Bwd Pkts        370.0\n",
      "                     ...    \n",
      "Idle Max           5234232.0\n",
      "Idle Min           5234232.0\n",
      "Protocol_17            False\n",
      "Protocol_6              True\n",
      "Label                      0\n",
      "Name: 800000, Length: 73, dtype: object\n"
     ]
    }
   ],
   "source": [
    "# Chọn dòng cụ thể (ví dụ: dòng 800,000)\n",
    "row_number = 800000\n",
    "\n",
    "# Kiểm tra xem dòng có tồn tại không\n",
    "if row_number < total_rows:\n",
    "    selected_row = df.iloc[row_number]\n",
    "    print(f\"Dữ liệu tại dòng {row_number}:\")\n",
    "    print(selected_row)\n",
    "    # Nếu bạn có cột nhãn (label), ví dụ 'label'\n",
    "    if 'label' in df.columns:\n",
    "        label = selected_row['label']\n",
    "        print(f\"Nhãn của dòng {row_number}: {label}\")\n",
    "else:\n",
    "    print(f\"Dòng {row_number} không tồn tại. Tổng số dòng chỉ có {total_rows}.\")"
   ]
  },
  {
   "cell_type": "code",
   "execution_count": null,
   "id": "203d612b-805d-433a-9ead-d19d8d0160de",
   "metadata": {},
   "outputs": [],
   "source": []
  }
 ],
 "metadata": {
  "kernelspec": {
   "display_name": "Python [conda env:base] *",
   "language": "python",
   "name": "conda-base-py"
  },
  "language_info": {
   "codemirror_mode": {
    "name": "ipython",
    "version": 3
   },
   "file_extension": ".py",
   "mimetype": "text/x-python",
   "name": "python",
   "nbconvert_exporter": "python",
   "pygments_lexer": "ipython3",
   "version": "3.12.7"
  }
 },
 "nbformat": 4,
 "nbformat_minor": 5
}
